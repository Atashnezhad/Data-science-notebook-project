{
 "cells": [
  {
   "cell_type": "markdown",
   "metadata": {
    "_uuid": "a51cbde076cd13f02e252d20026c40bfb3311675"
   },
   "source": [
    "## In this toturial I applied some ML algorithms to data. \n",
    "The codes resources were provided at the end of this toturial. \n",
    "I think everyone can easily find the tools online and just arrange for them to achieve their desired goal. \n",
    "In this work, You will learn how to handle:\n",
    "\n",
    "1. Missed values\n",
    "2. Adding a new column to data\n",
    "3. Delete some useless columns\n",
    "4. Visualization\n",
    "5. Parameters Featuring and Transforming (Dealing with those parameters that are an object not digit)\n",
    "6. Splitting data (train, validate and test)\n",
    "7. Fitting ML models (Random Forest, Logistic Regression, Decision Tree, Gaussian, Linear SVC)\n",
    "8. Accuracy, Precision, Sensitivity or Recall, F1 score concepts\n",
    "9. Evaluating Model Performances\n",
    "10. Saving your model\n",
    "11. Uploading your model and how to apply it to other data\n",
    "You may use docker for this Notebook. \n",
    "(docker pull atashnezhad/datasciencenotebook)"
   ]
  },
  {
   "cell_type": "code",
   "execution_count": 7,
   "metadata": {},
   "outputs": [
    {
     "data": {
      "text/plain": [
       "'C:\\\\Users\\\\DASLAB Hareland 3\\\\data science notebook project'"
      ]
     },
     "execution_count": 7,
     "metadata": {},
     "output_type": "execute_result"
    }
   ],
   "source": [
    "pwd"
   ]
  },
  {
   "cell_type": "code",
   "execution_count": 3,
   "metadata": {
    "_cell_guid": "79c7e3d0-c299-4dcb-8224-4455121ee9b0",
    "_uuid": "d629ff2d2480ee46fbb7e2d37f6b5fab8052498a"
   },
   "outputs": [],
   "source": [
    "# Import numpy and pandas two essential libraries.\n",
    "import numpy as np \n",
    "import pandas as pd \n",
    "import seaborn as sns\n",
    "from matplotlib import pyplot as plt"
   ]
  },
  {
   "cell_type": "markdown",
   "metadata": {
    "_uuid": "00b518de7bd20b0ab8c775ecf5a07b30410d5a6e"
   },
   "source": [
    "Load the csv data file and visualize paramters."
   ]
  },
  {
   "cell_type": "code",
   "execution_count": 5,
   "metadata": {
    "_uuid": "5fe2a152c16379a99baa0739c6688680b9e4878f",
    "scrolled": true
   },
   "outputs": [
    {
     "data": {
      "text/html": [
       "<div>\n",
       "<style scoped>\n",
       "    .dataframe tbody tr th:only-of-type {\n",
       "        vertical-align: middle;\n",
       "    }\n",
       "\n",
       "    .dataframe tbody tr th {\n",
       "        vertical-align: top;\n",
       "    }\n",
       "\n",
       "    .dataframe thead th {\n",
       "        text-align: right;\n",
       "    }\n",
       "</style>\n",
       "<table border=\"1\" class=\"dataframe\">\n",
       "  <thead>\n",
       "    <tr style=\"text-align: right;\">\n",
       "      <th></th>\n",
       "      <th>ID</th>\n",
       "      <th>name</th>\n",
       "      <th>category</th>\n",
       "      <th>main_category</th>\n",
       "      <th>currency</th>\n",
       "      <th>deadline</th>\n",
       "      <th>goal</th>\n",
       "      <th>launched</th>\n",
       "      <th>pledged</th>\n",
       "      <th>state</th>\n",
       "      <th>backers</th>\n",
       "      <th>country</th>\n",
       "      <th>usd pledged</th>\n",
       "      <th>usd_pledged_real</th>\n",
       "      <th>usd_goal_real</th>\n",
       "    </tr>\n",
       "  </thead>\n",
       "  <tbody>\n",
       "    <tr>\n",
       "      <th>0</th>\n",
       "      <td>1000002330</td>\n",
       "      <td>The Songs of Adelaide &amp; Abullah</td>\n",
       "      <td>Poetry</td>\n",
       "      <td>Publishing</td>\n",
       "      <td>GBP</td>\n",
       "      <td>2015-10-09</td>\n",
       "      <td>1000.0</td>\n",
       "      <td>2015-08-11 12:12:28</td>\n",
       "      <td>0.0</td>\n",
       "      <td>failed</td>\n",
       "      <td>0</td>\n",
       "      <td>GB</td>\n",
       "      <td>0.0</td>\n",
       "      <td>0.0</td>\n",
       "      <td>1533.95</td>\n",
       "    </tr>\n",
       "    <tr>\n",
       "      <th>1</th>\n",
       "      <td>1000003930</td>\n",
       "      <td>Greeting From Earth: ZGAC Arts Capsule For ET</td>\n",
       "      <td>Narrative Film</td>\n",
       "      <td>Film &amp; Video</td>\n",
       "      <td>USD</td>\n",
       "      <td>2017-11-01</td>\n",
       "      <td>30000.0</td>\n",
       "      <td>2017-09-02 04:43:57</td>\n",
       "      <td>2421.0</td>\n",
       "      <td>failed</td>\n",
       "      <td>15</td>\n",
       "      <td>US</td>\n",
       "      <td>100.0</td>\n",
       "      <td>2421.0</td>\n",
       "      <td>30000.00</td>\n",
       "    </tr>\n",
       "    <tr>\n",
       "      <th>2</th>\n",
       "      <td>1000004038</td>\n",
       "      <td>Where is Hank?</td>\n",
       "      <td>Narrative Film</td>\n",
       "      <td>Film &amp; Video</td>\n",
       "      <td>USD</td>\n",
       "      <td>2013-02-26</td>\n",
       "      <td>45000.0</td>\n",
       "      <td>2013-01-12 00:20:50</td>\n",
       "      <td>220.0</td>\n",
       "      <td>failed</td>\n",
       "      <td>3</td>\n",
       "      <td>US</td>\n",
       "      <td>220.0</td>\n",
       "      <td>220.0</td>\n",
       "      <td>45000.00</td>\n",
       "    </tr>\n",
       "    <tr>\n",
       "      <th>3</th>\n",
       "      <td>1000007540</td>\n",
       "      <td>ToshiCapital Rekordz Needs Help to Complete Album</td>\n",
       "      <td>Music</td>\n",
       "      <td>Music</td>\n",
       "      <td>USD</td>\n",
       "      <td>2012-04-16</td>\n",
       "      <td>5000.0</td>\n",
       "      <td>2012-03-17 03:24:11</td>\n",
       "      <td>1.0</td>\n",
       "      <td>failed</td>\n",
       "      <td>1</td>\n",
       "      <td>US</td>\n",
       "      <td>1.0</td>\n",
       "      <td>1.0</td>\n",
       "      <td>5000.00</td>\n",
       "    </tr>\n",
       "    <tr>\n",
       "      <th>4</th>\n",
       "      <td>1000011046</td>\n",
       "      <td>Community Film Project: The Art of Neighborhoo...</td>\n",
       "      <td>Film &amp; Video</td>\n",
       "      <td>Film &amp; Video</td>\n",
       "      <td>USD</td>\n",
       "      <td>2015-08-29</td>\n",
       "      <td>19500.0</td>\n",
       "      <td>2015-07-04 08:35:03</td>\n",
       "      <td>1283.0</td>\n",
       "      <td>canceled</td>\n",
       "      <td>14</td>\n",
       "      <td>US</td>\n",
       "      <td>1283.0</td>\n",
       "      <td>1283.0</td>\n",
       "      <td>19500.00</td>\n",
       "    </tr>\n",
       "  </tbody>\n",
       "</table>\n",
       "</div>"
      ],
      "text/plain": [
       "           ID                                               name  \\\n",
       "0  1000002330                    The Songs of Adelaide & Abullah   \n",
       "1  1000003930      Greeting From Earth: ZGAC Arts Capsule For ET   \n",
       "2  1000004038                                     Where is Hank?   \n",
       "3  1000007540  ToshiCapital Rekordz Needs Help to Complete Album   \n",
       "4  1000011046  Community Film Project: The Art of Neighborhoo...   \n",
       "\n",
       "         category main_category currency    deadline     goal  \\\n",
       "0          Poetry    Publishing      GBP  2015-10-09   1000.0   \n",
       "1  Narrative Film  Film & Video      USD  2017-11-01  30000.0   \n",
       "2  Narrative Film  Film & Video      USD  2013-02-26  45000.0   \n",
       "3           Music         Music      USD  2012-04-16   5000.0   \n",
       "4    Film & Video  Film & Video      USD  2015-08-29  19500.0   \n",
       "\n",
       "              launched  pledged     state  backers country  usd pledged  \\\n",
       "0  2015-08-11 12:12:28      0.0    failed        0      GB          0.0   \n",
       "1  2017-09-02 04:43:57   2421.0    failed       15      US        100.0   \n",
       "2  2013-01-12 00:20:50    220.0    failed        3      US        220.0   \n",
       "3  2012-03-17 03:24:11      1.0    failed        1      US          1.0   \n",
       "4  2015-07-04 08:35:03   1283.0  canceled       14      US       1283.0   \n",
       "\n",
       "   usd_pledged_real  usd_goal_real  \n",
       "0               0.0        1533.95  \n",
       "1            2421.0       30000.00  \n",
       "2             220.0       45000.00  \n",
       "3               1.0        5000.00  \n",
       "4            1283.0       19500.00  "
      ]
     },
     "execution_count": 5,
     "metadata": {},
     "output_type": "execute_result"
    }
   ],
   "source": [
    "#data = pd.read_csv(\"C:/Users/DASLAB Hareland 3/Desktop/atashnezhad-ai-interview-code-amin-2a2ca6bbf490/data.csv\")\n",
    "#data.head()\n",
    "#data = pd.read_csv(\"C:/Users/Farshid/Documents/ai-interview-code-amin/data.csv\")\n",
    "#data.head()\n",
    "data = pd.read_csv(\"data.csv\")\n",
    "data.head()"
   ]
  },
  {
   "cell_type": "code",
   "execution_count": 5,
   "metadata": {
    "_uuid": "5ade9abd4f2b1aff1932a307eed85f2525588538"
   },
   "outputs": [
    {
     "data": {
      "text/html": [
       "<div>\n",
       "<style scoped>\n",
       "    .dataframe tbody tr th:only-of-type {\n",
       "        vertical-align: middle;\n",
       "    }\n",
       "\n",
       "    .dataframe tbody tr th {\n",
       "        vertical-align: top;\n",
       "    }\n",
       "\n",
       "    .dataframe thead th {\n",
       "        text-align: right;\n",
       "    }\n",
       "</style>\n",
       "<table border=\"1\" class=\"dataframe\">\n",
       "  <thead>\n",
       "    <tr style=\"text-align: right;\">\n",
       "      <th></th>\n",
       "      <th>ID</th>\n",
       "      <th>name</th>\n",
       "      <th>category</th>\n",
       "      <th>main_category</th>\n",
       "      <th>currency</th>\n",
       "      <th>deadline</th>\n",
       "      <th>goal</th>\n",
       "      <th>launched</th>\n",
       "      <th>pledged</th>\n",
       "      <th>state</th>\n",
       "      <th>backers</th>\n",
       "      <th>country</th>\n",
       "      <th>usd pledged</th>\n",
       "      <th>usd_pledged_real</th>\n",
       "      <th>usd_goal_real</th>\n",
       "    </tr>\n",
       "  </thead>\n",
       "  <tbody>\n",
       "    <tr>\n",
       "      <th>378656</th>\n",
       "      <td>999976400</td>\n",
       "      <td>ChknTruk Nationwide Charity Drive 2014 (Canceled)</td>\n",
       "      <td>Documentary</td>\n",
       "      <td>Film &amp; Video</td>\n",
       "      <td>USD</td>\n",
       "      <td>2014-10-17</td>\n",
       "      <td>50000.0</td>\n",
       "      <td>2014-09-17 02:35:30</td>\n",
       "      <td>25.0</td>\n",
       "      <td>canceled</td>\n",
       "      <td>1</td>\n",
       "      <td>US</td>\n",
       "      <td>25.0</td>\n",
       "      <td>25.0</td>\n",
       "      <td>50000.0</td>\n",
       "    </tr>\n",
       "    <tr>\n",
       "      <th>378657</th>\n",
       "      <td>999977640</td>\n",
       "      <td>The Tribe</td>\n",
       "      <td>Narrative Film</td>\n",
       "      <td>Film &amp; Video</td>\n",
       "      <td>USD</td>\n",
       "      <td>2011-07-19</td>\n",
       "      <td>1500.0</td>\n",
       "      <td>2011-06-22 03:35:14</td>\n",
       "      <td>155.0</td>\n",
       "      <td>failed</td>\n",
       "      <td>5</td>\n",
       "      <td>US</td>\n",
       "      <td>155.0</td>\n",
       "      <td>155.0</td>\n",
       "      <td>1500.0</td>\n",
       "    </tr>\n",
       "    <tr>\n",
       "      <th>378658</th>\n",
       "      <td>999986353</td>\n",
       "      <td>Walls of Remedy- New lesbian Romantic Comedy f...</td>\n",
       "      <td>Narrative Film</td>\n",
       "      <td>Film &amp; Video</td>\n",
       "      <td>USD</td>\n",
       "      <td>2010-08-16</td>\n",
       "      <td>15000.0</td>\n",
       "      <td>2010-07-01 19:40:30</td>\n",
       "      <td>20.0</td>\n",
       "      <td>failed</td>\n",
       "      <td>1</td>\n",
       "      <td>US</td>\n",
       "      <td>20.0</td>\n",
       "      <td>20.0</td>\n",
       "      <td>15000.0</td>\n",
       "    </tr>\n",
       "    <tr>\n",
       "      <th>378659</th>\n",
       "      <td>999987933</td>\n",
       "      <td>BioDefense Education Kit</td>\n",
       "      <td>Technology</td>\n",
       "      <td>Technology</td>\n",
       "      <td>USD</td>\n",
       "      <td>2016-02-13</td>\n",
       "      <td>15000.0</td>\n",
       "      <td>2016-01-13 18:13:53</td>\n",
       "      <td>200.0</td>\n",
       "      <td>failed</td>\n",
       "      <td>6</td>\n",
       "      <td>US</td>\n",
       "      <td>200.0</td>\n",
       "      <td>200.0</td>\n",
       "      <td>15000.0</td>\n",
       "    </tr>\n",
       "    <tr>\n",
       "      <th>378660</th>\n",
       "      <td>999988282</td>\n",
       "      <td>Nou Renmen Ayiti!  We Love Haiti!</td>\n",
       "      <td>Performance Art</td>\n",
       "      <td>Art</td>\n",
       "      <td>USD</td>\n",
       "      <td>2011-08-16</td>\n",
       "      <td>2000.0</td>\n",
       "      <td>2011-07-19 09:07:47</td>\n",
       "      <td>524.0</td>\n",
       "      <td>failed</td>\n",
       "      <td>17</td>\n",
       "      <td>US</td>\n",
       "      <td>524.0</td>\n",
       "      <td>524.0</td>\n",
       "      <td>2000.0</td>\n",
       "    </tr>\n",
       "  </tbody>\n",
       "</table>\n",
       "</div>"
      ],
      "text/plain": [
       "               ID                                               name  \\\n",
       "378656  999976400  ChknTruk Nationwide Charity Drive 2014 (Canceled)   \n",
       "378657  999977640                                          The Tribe   \n",
       "378658  999986353  Walls of Remedy- New lesbian Romantic Comedy f...   \n",
       "378659  999987933                           BioDefense Education Kit   \n",
       "378660  999988282                  Nou Renmen Ayiti!  We Love Haiti!   \n",
       "\n",
       "               category main_category currency    deadline     goal  \\\n",
       "378656      Documentary  Film & Video      USD  2014-10-17  50000.0   \n",
       "378657   Narrative Film  Film & Video      USD  2011-07-19   1500.0   \n",
       "378658   Narrative Film  Film & Video      USD  2010-08-16  15000.0   \n",
       "378659       Technology    Technology      USD  2016-02-13  15000.0   \n",
       "378660  Performance Art           Art      USD  2011-08-16   2000.0   \n",
       "\n",
       "                   launched  pledged     state  backers country  usd pledged  \\\n",
       "378656  2014-09-17 02:35:30     25.0  canceled        1      US         25.0   \n",
       "378657  2011-06-22 03:35:14    155.0    failed        5      US        155.0   \n",
       "378658  2010-07-01 19:40:30     20.0    failed        1      US         20.0   \n",
       "378659  2016-01-13 18:13:53    200.0    failed        6      US        200.0   \n",
       "378660  2011-07-19 09:07:47    524.0    failed       17      US        524.0   \n",
       "\n",
       "        usd_pledged_real  usd_goal_real  \n",
       "378656              25.0        50000.0  \n",
       "378657             155.0         1500.0  \n",
       "378658              20.0        15000.0  \n",
       "378659             200.0        15000.0  \n",
       "378660             524.0         2000.0  "
      ]
     },
     "execution_count": 5,
     "metadata": {},
     "output_type": "execute_result"
    }
   ],
   "source": [
    "data.tail()"
   ]
  },
  {
   "cell_type": "code",
   "execution_count": 6,
   "metadata": {
    "_uuid": "08b37472e9bbffbb70705c4ba42ef491e979eedb"
   },
   "outputs": [
    {
     "data": {
      "text/plain": [
       "(378661, 15)"
      ]
     },
     "execution_count": 6,
     "metadata": {},
     "output_type": "execute_result"
    }
   ],
   "source": [
    "data.shape"
   ]
  },
  {
   "cell_type": "code",
   "execution_count": 8,
   "metadata": {
    "_uuid": "891fbb6779dcb10729fe90ccda309e433cdcb62c"
   },
   "outputs": [],
   "source": [
    "# Import Pandas\n",
    "import pandas as pd\n",
    "#Import Numpy for numerical computation\n",
    "import numpy as np\n",
    "# Import matplotlib & seaborn for visualisation\n",
    "import matplotlib as mpl\n",
    "import matplotlib.pyplot as plt\n",
    "%matplotlib inline\n",
    "import seaborn as sns\n",
    "import scipy.stats as st\n",
    "from sklearn import ensemble, tree, linear_model\n",
    "import missingno as msno"
   ]
  },
  {
   "cell_type": "code",
   "execution_count": 9,
   "metadata": {},
   "outputs": [],
   "source": [
    "# !pip install missingno"
   ]
  },
  {
   "cell_type": "code",
   "execution_count": 6,
   "metadata": {
    "_uuid": "aec32e849a9e504e62b0a6b6db19dc87a783bd3f"
   },
   "outputs": [
    {
     "data": {
      "text/plain": [
       "Index(['ID', 'goal', 'pledged', 'backers', 'usd pledged', 'usd_pledged_real',\n",
       "       'usd_goal_real'],\n",
       "      dtype='object')"
      ]
     },
     "execution_count": 6,
     "metadata": {},
     "output_type": "execute_result"
    }
   ],
   "source": [
    "numeric_features = data.select_dtypes(include=[np.number])\n",
    "numeric_features.columns"
   ]
  },
  {
   "cell_type": "code",
   "execution_count": 10,
   "metadata": {
    "_uuid": "0eb168d38560c23af891c18fb3a2518cd07e6fee"
   },
   "outputs": [
    {
     "data": {
      "text/plain": [
       "Index(['name', 'category', 'main_category', 'currency', 'deadline', 'launched',\n",
       "       'state', 'country'],\n",
       "      dtype='object')"
      ]
     },
     "execution_count": 10,
     "metadata": {},
     "output_type": "execute_result"
    }
   ],
   "source": [
    "categorical_features = data.select_dtypes(include=[np.object])\n",
    "categorical_features.columns"
   ]
  },
  {
   "cell_type": "code",
   "execution_count": 8,
   "metadata": {
    "_uuid": "74f2e1fc64b2c4266f7eceda646770edbc8828af"
   },
   "outputs": [],
   "source": [
    "#Estimate Skewness and Kurtosis\n",
    "#data.skew(), data.kurt()"
   ]
  },
  {
   "cell_type": "code",
   "execution_count": 9,
   "metadata": {
    "_uuid": "1be42b7b503b04839661ff9a884102b83748e65c"
   },
   "outputs": [
    {
     "data": {
      "text/html": [
       "<div>\n",
       "<style scoped>\n",
       "    .dataframe tbody tr th:only-of-type {\n",
       "        vertical-align: middle;\n",
       "    }\n",
       "\n",
       "    .dataframe tbody tr th {\n",
       "        vertical-align: top;\n",
       "    }\n",
       "\n",
       "    .dataframe thead th {\n",
       "        text-align: right;\n",
       "    }\n",
       "</style>\n",
       "<table border=\"1\" class=\"dataframe\">\n",
       "  <thead>\n",
       "    <tr style=\"text-align: right;\">\n",
       "      <th></th>\n",
       "      <th>ID</th>\n",
       "      <th>goal</th>\n",
       "      <th>pledged</th>\n",
       "      <th>backers</th>\n",
       "      <th>usd pledged</th>\n",
       "      <th>usd_pledged_real</th>\n",
       "      <th>usd_goal_real</th>\n",
       "    </tr>\n",
       "  </thead>\n",
       "  <tbody>\n",
       "    <tr>\n",
       "      <td>count</td>\n",
       "      <td>3.786610e+05</td>\n",
       "      <td>3.786610e+05</td>\n",
       "      <td>3.786610e+05</td>\n",
       "      <td>378661.000000</td>\n",
       "      <td>3.748640e+05</td>\n",
       "      <td>3.786610e+05</td>\n",
       "      <td>3.786610e+05</td>\n",
       "    </tr>\n",
       "    <tr>\n",
       "      <td>mean</td>\n",
       "      <td>1.074731e+09</td>\n",
       "      <td>4.908079e+04</td>\n",
       "      <td>9.682979e+03</td>\n",
       "      <td>105.617476</td>\n",
       "      <td>7.036729e+03</td>\n",
       "      <td>9.058924e+03</td>\n",
       "      <td>4.545440e+04</td>\n",
       "    </tr>\n",
       "    <tr>\n",
       "      <td>std</td>\n",
       "      <td>6.190862e+08</td>\n",
       "      <td>1.183391e+06</td>\n",
       "      <td>9.563601e+04</td>\n",
       "      <td>907.185035</td>\n",
       "      <td>7.863975e+04</td>\n",
       "      <td>9.097334e+04</td>\n",
       "      <td>1.152950e+06</td>\n",
       "    </tr>\n",
       "    <tr>\n",
       "      <td>min</td>\n",
       "      <td>5.971000e+03</td>\n",
       "      <td>1.000000e-02</td>\n",
       "      <td>0.000000e+00</td>\n",
       "      <td>0.000000</td>\n",
       "      <td>0.000000e+00</td>\n",
       "      <td>0.000000e+00</td>\n",
       "      <td>1.000000e-02</td>\n",
       "    </tr>\n",
       "    <tr>\n",
       "      <td>25%</td>\n",
       "      <td>5.382635e+08</td>\n",
       "      <td>2.000000e+03</td>\n",
       "      <td>3.000000e+01</td>\n",
       "      <td>2.000000</td>\n",
       "      <td>1.698000e+01</td>\n",
       "      <td>3.100000e+01</td>\n",
       "      <td>2.000000e+03</td>\n",
       "    </tr>\n",
       "    <tr>\n",
       "      <td>50%</td>\n",
       "      <td>1.075276e+09</td>\n",
       "      <td>5.200000e+03</td>\n",
       "      <td>6.200000e+02</td>\n",
       "      <td>12.000000</td>\n",
       "      <td>3.947200e+02</td>\n",
       "      <td>6.243300e+02</td>\n",
       "      <td>5.500000e+03</td>\n",
       "    </tr>\n",
       "    <tr>\n",
       "      <td>75%</td>\n",
       "      <td>1.610149e+09</td>\n",
       "      <td>1.600000e+04</td>\n",
       "      <td>4.076000e+03</td>\n",
       "      <td>56.000000</td>\n",
       "      <td>3.034090e+03</td>\n",
       "      <td>4.050000e+03</td>\n",
       "      <td>1.550000e+04</td>\n",
       "    </tr>\n",
       "    <tr>\n",
       "      <td>max</td>\n",
       "      <td>2.147476e+09</td>\n",
       "      <td>1.000000e+08</td>\n",
       "      <td>2.033899e+07</td>\n",
       "      <td>219382.000000</td>\n",
       "      <td>2.033899e+07</td>\n",
       "      <td>2.033899e+07</td>\n",
       "      <td>1.663614e+08</td>\n",
       "    </tr>\n",
       "  </tbody>\n",
       "</table>\n",
       "</div>"
      ],
      "text/plain": [
       "                 ID          goal       pledged        backers   usd pledged  \\\n",
       "count  3.786610e+05  3.786610e+05  3.786610e+05  378661.000000  3.748640e+05   \n",
       "mean   1.074731e+09  4.908079e+04  9.682979e+03     105.617476  7.036729e+03   \n",
       "std    6.190862e+08  1.183391e+06  9.563601e+04     907.185035  7.863975e+04   \n",
       "min    5.971000e+03  1.000000e-02  0.000000e+00       0.000000  0.000000e+00   \n",
       "25%    5.382635e+08  2.000000e+03  3.000000e+01       2.000000  1.698000e+01   \n",
       "50%    1.075276e+09  5.200000e+03  6.200000e+02      12.000000  3.947200e+02   \n",
       "75%    1.610149e+09  1.600000e+04  4.076000e+03      56.000000  3.034090e+03   \n",
       "max    2.147476e+09  1.000000e+08  2.033899e+07  219382.000000  2.033899e+07   \n",
       "\n",
       "       usd_pledged_real  usd_goal_real  \n",
       "count      3.786610e+05   3.786610e+05  \n",
       "mean       9.058924e+03   4.545440e+04  \n",
       "std        9.097334e+04   1.152950e+06  \n",
       "min        0.000000e+00   1.000000e-02  \n",
       "25%        3.100000e+01   2.000000e+03  \n",
       "50%        6.243300e+02   5.500000e+03  \n",
       "75%        4.050000e+03   1.550000e+04  \n",
       "max        2.033899e+07   1.663614e+08  "
      ]
     },
     "execution_count": 9,
     "metadata": {},
     "output_type": "execute_result"
    }
   ],
   "source": [
    "data.describe()"
   ]
  },
  {
   "cell_type": "code",
   "execution_count": 10,
   "metadata": {
    "_uuid": "498c291e19e8b009d1a2b51dd065ddc103d33dd3"
   },
   "outputs": [
    {
     "name": "stdout",
     "output_type": "stream",
     "text": [
      "Index(['ID', 'name', 'category', 'main_category', 'currency', 'deadline',\n",
      "       'goal', 'launched', 'pledged', 'state', 'backers', 'country',\n",
      "       'usd pledged', 'usd_pledged_real', 'usd_goal_real'],\n",
      "      dtype='object')\n"
     ]
    }
   ],
   "source": [
    "print(data.keys())"
   ]
  },
  {
   "cell_type": "markdown",
   "metadata": {
    "_uuid": "e8353d14f3a9a36640902d3a94f9002f53a1c1ca"
   },
   "source": [
    "# Dealing with NaN Values (Imputation)\n",
    "\n",
    "See if there are null/ missing/NaN in data. "
   ]
  },
  {
   "cell_type": "code",
   "execution_count": 11,
   "metadata": {
    "_uuid": "86b951087c31cdda8ee030a8d73afbb3f7d10068"
   },
   "outputs": [
    {
     "name": "stdout",
     "output_type": "stream",
     "text": [
      "Training Data Frame\n",
      "ID                     0\n",
      "name                   4\n",
      "category               0\n",
      "main_category          0\n",
      "currency               0\n",
      "deadline               0\n",
      "goal                   0\n",
      "launched               0\n",
      "pledged                0\n",
      "state                  0\n",
      "backers                0\n",
      "country                0\n",
      "usd pledged         3797\n",
      "usd_pledged_real       0\n",
      "usd_goal_real          0\n",
      "dtype: int64\n",
      " \n"
     ]
    }
   ],
   "source": [
    "def null_table(data):\n",
    "    print(\"Training Data Frame\")\n",
    "    print(pd.isnull(data).sum()) \n",
    "    print(\" \")\n",
    "    \n",
    "null_table(data)"
   ]
  },
  {
   "cell_type": "markdown",
   "metadata": {
    "_uuid": "6762e54fb9bd0e197f4ef7e3953cd9d9f8483778"
   },
   "source": [
    "The name of project and the ID do not affect a project final results. \n",
    "Drop name and project ID. In addition, the currency should be taken out of data becasue the pledges were provided in USD."
   ]
  },
  {
   "cell_type": "code",
   "execution_count": 12,
   "metadata": {
    "_uuid": "afd396f688048ffee62792fb45c0de355ded699e"
   },
   "outputs": [
    {
     "name": "stdout",
     "output_type": "stream",
     "text": [
      "Training Data Frame\n",
      "category               0\n",
      "main_category          0\n",
      "currency               0\n",
      "deadline               0\n",
      "goal                   0\n",
      "launched               0\n",
      "pledged                0\n",
      "state                  0\n",
      "backers                0\n",
      "country                0\n",
      "usd pledged         3797\n",
      "usd_pledged_real       0\n",
      "usd_goal_real          0\n",
      "dtype: int64\n",
      " \n"
     ]
    }
   ],
   "source": [
    "data.drop(labels = [\"ID\",\"name\"], axis = 1, inplace = True)\n",
    "null_table(data)"
   ]
  },
  {
   "cell_type": "markdown",
   "metadata": {
    "_uuid": "02e77896c28c39922a7c52278af5aa410e4d699b"
   },
   "source": [
    "# Data2\n",
    "\n",
    "Feed data to new dataframe (data2) and drop those rows that missed. droping the whole column is not accepted. "
   ]
  },
  {
   "cell_type": "code",
   "execution_count": 13,
   "metadata": {
    "_uuid": "dbf97b53dceab74df16f0713541cf4c3e73f97f6"
   },
   "outputs": [
    {
     "name": "stdout",
     "output_type": "stream",
     "text": [
      "Training Data Frame\n",
      "category            0\n",
      "main_category       0\n",
      "currency            0\n",
      "deadline            0\n",
      "goal                0\n",
      "launched            0\n",
      "pledged             0\n",
      "state               0\n",
      "backers             0\n",
      "country             0\n",
      "usd pledged         0\n",
      "usd_pledged_real    0\n",
      "usd_goal_real       0\n",
      "dtype: int64\n",
      " \n"
     ]
    },
    {
     "data": {
      "text/html": [
       "<div>\n",
       "<style scoped>\n",
       "    .dataframe tbody tr th:only-of-type {\n",
       "        vertical-align: middle;\n",
       "    }\n",
       "\n",
       "    .dataframe tbody tr th {\n",
       "        vertical-align: top;\n",
       "    }\n",
       "\n",
       "    .dataframe thead th {\n",
       "        text-align: right;\n",
       "    }\n",
       "</style>\n",
       "<table border=\"1\" class=\"dataframe\">\n",
       "  <thead>\n",
       "    <tr style=\"text-align: right;\">\n",
       "      <th></th>\n",
       "      <th>goal</th>\n",
       "      <th>pledged</th>\n",
       "      <th>backers</th>\n",
       "      <th>usd pledged</th>\n",
       "      <th>usd_pledged_real</th>\n",
       "      <th>usd_goal_real</th>\n",
       "    </tr>\n",
       "  </thead>\n",
       "  <tbody>\n",
       "    <tr>\n",
       "      <td>count</td>\n",
       "      <td>3.748640e+05</td>\n",
       "      <td>3.748640e+05</td>\n",
       "      <td>374864.000000</td>\n",
       "      <td>3.748640e+05</td>\n",
       "      <td>3.748640e+05</td>\n",
       "      <td>3.748640e+05</td>\n",
       "    </tr>\n",
       "    <tr>\n",
       "      <td>mean</td>\n",
       "      <td>4.952310e+04</td>\n",
       "      <td>9.750436e+03</td>\n",
       "      <td>106.687276</td>\n",
       "      <td>7.036729e+03</td>\n",
       "      <td>9.120803e+03</td>\n",
       "      <td>4.586318e+04</td>\n",
       "    </tr>\n",
       "    <tr>\n",
       "      <td>std</td>\n",
       "      <td>1.189355e+06</td>\n",
       "      <td>9.601043e+04</td>\n",
       "      <td>911.705321</td>\n",
       "      <td>7.863975e+04</td>\n",
       "      <td>9.131921e+04</td>\n",
       "      <td>1.158761e+06</td>\n",
       "    </tr>\n",
       "    <tr>\n",
       "      <td>min</td>\n",
       "      <td>1.000000e-02</td>\n",
       "      <td>0.000000e+00</td>\n",
       "      <td>0.000000</td>\n",
       "      <td>0.000000e+00</td>\n",
       "      <td>0.000000e+00</td>\n",
       "      <td>1.000000e-02</td>\n",
       "    </tr>\n",
       "    <tr>\n",
       "      <td>25%</td>\n",
       "      <td>2.000000e+03</td>\n",
       "      <td>3.100000e+01</td>\n",
       "      <td>2.000000</td>\n",
       "      <td>1.698000e+01</td>\n",
       "      <td>3.100000e+01</td>\n",
       "      <td>2.000000e+03</td>\n",
       "    </tr>\n",
       "    <tr>\n",
       "      <td>50%</td>\n",
       "      <td>5.500000e+03</td>\n",
       "      <td>6.200000e+02</td>\n",
       "      <td>12.000000</td>\n",
       "      <td>3.947200e+02</td>\n",
       "      <td>6.244100e+02</td>\n",
       "      <td>5.500000e+03</td>\n",
       "    </tr>\n",
       "    <tr>\n",
       "      <td>75%</td>\n",
       "      <td>1.650000e+04</td>\n",
       "      <td>4.080000e+03</td>\n",
       "      <td>57.000000</td>\n",
       "      <td>3.034090e+03</td>\n",
       "      <td>4.050815e+03</td>\n",
       "      <td>1.600000e+04</td>\n",
       "    </tr>\n",
       "    <tr>\n",
       "      <td>max</td>\n",
       "      <td>1.000000e+08</td>\n",
       "      <td>2.033899e+07</td>\n",
       "      <td>219382.000000</td>\n",
       "      <td>2.033899e+07</td>\n",
       "      <td>2.033899e+07</td>\n",
       "      <td>1.663614e+08</td>\n",
       "    </tr>\n",
       "  </tbody>\n",
       "</table>\n",
       "</div>"
      ],
      "text/plain": [
       "               goal       pledged        backers   usd pledged  \\\n",
       "count  3.748640e+05  3.748640e+05  374864.000000  3.748640e+05   \n",
       "mean   4.952310e+04  9.750436e+03     106.687276  7.036729e+03   \n",
       "std    1.189355e+06  9.601043e+04     911.705321  7.863975e+04   \n",
       "min    1.000000e-02  0.000000e+00       0.000000  0.000000e+00   \n",
       "25%    2.000000e+03  3.100000e+01       2.000000  1.698000e+01   \n",
       "50%    5.500000e+03  6.200000e+02      12.000000  3.947200e+02   \n",
       "75%    1.650000e+04  4.080000e+03      57.000000  3.034090e+03   \n",
       "max    1.000000e+08  2.033899e+07  219382.000000  2.033899e+07   \n",
       "\n",
       "       usd_pledged_real  usd_goal_real  \n",
       "count      3.748640e+05   3.748640e+05  \n",
       "mean       9.120803e+03   4.586318e+04  \n",
       "std        9.131921e+04   1.158761e+06  \n",
       "min        0.000000e+00   1.000000e-02  \n",
       "25%        3.100000e+01   2.000000e+03  \n",
       "50%        6.244100e+02   5.500000e+03  \n",
       "75%        4.050815e+03   1.600000e+04  \n",
       "max        2.033899e+07   1.663614e+08  "
      ]
     },
     "execution_count": 13,
     "metadata": {},
     "output_type": "execute_result"
    }
   ],
   "source": [
    "import copy\n",
    "data2=copy.deepcopy(data)\n",
    "data2 = data2[np.isfinite(data2['usd pledged'])]\n",
    "null_table(data2)\n",
    "data2.describe()"
   ]
  },
  {
   "cell_type": "markdown",
   "metadata": {
    "_uuid": "d98303233b6ed6870eada1218cc31f6d00cc4a2e"
   },
   "source": [
    "The deadline time and time that a project is lunched are not important itself. subtract these two to find out how much time was avalabe for each project. Use the csv file and subtracted these two columns to achive the number of days. The diff.csv file was uploaded and columns including 'launched' and 'dedline' and'currency' were deleted. The data2 is turne to data3 now with a new diff column (without launched, currency and deadline columns)."
   ]
  },
  {
   "cell_type": "code",
   "execution_count": 14,
   "metadata": {
    "_uuid": "448056d56faea96657777cc5d4692a6363090da3"
   },
   "outputs": [
    {
     "data": {
      "text/html": [
       "<div>\n",
       "<style scoped>\n",
       "    .dataframe tbody tr th:only-of-type {\n",
       "        vertical-align: middle;\n",
       "    }\n",
       "\n",
       "    .dataframe tbody tr th {\n",
       "        vertical-align: top;\n",
       "    }\n",
       "\n",
       "    .dataframe thead th {\n",
       "        text-align: right;\n",
       "    }\n",
       "</style>\n",
       "<table border=\"1\" class=\"dataframe\">\n",
       "  <thead>\n",
       "    <tr style=\"text-align: right;\">\n",
       "      <th></th>\n",
       "      <th>category</th>\n",
       "      <th>main_category</th>\n",
       "      <th>goal</th>\n",
       "      <th>pledged</th>\n",
       "      <th>state</th>\n",
       "      <th>backers</th>\n",
       "      <th>country</th>\n",
       "      <th>usd pledged</th>\n",
       "      <th>usd_pledged_real</th>\n",
       "      <th>usd_goal_real</th>\n",
       "    </tr>\n",
       "  </thead>\n",
       "  <tbody>\n",
       "    <tr>\n",
       "      <td>0</td>\n",
       "      <td>Poetry</td>\n",
       "      <td>Publishing</td>\n",
       "      <td>1000.0</td>\n",
       "      <td>0.0</td>\n",
       "      <td>failed</td>\n",
       "      <td>0</td>\n",
       "      <td>GB</td>\n",
       "      <td>0.0</td>\n",
       "      <td>0.0</td>\n",
       "      <td>1533.95</td>\n",
       "    </tr>\n",
       "    <tr>\n",
       "      <td>1</td>\n",
       "      <td>Narrative Film</td>\n",
       "      <td>Film &amp; Video</td>\n",
       "      <td>30000.0</td>\n",
       "      <td>2421.0</td>\n",
       "      <td>failed</td>\n",
       "      <td>15</td>\n",
       "      <td>US</td>\n",
       "      <td>100.0</td>\n",
       "      <td>2421.0</td>\n",
       "      <td>30000.00</td>\n",
       "    </tr>\n",
       "    <tr>\n",
       "      <td>2</td>\n",
       "      <td>Narrative Film</td>\n",
       "      <td>Film &amp; Video</td>\n",
       "      <td>45000.0</td>\n",
       "      <td>220.0</td>\n",
       "      <td>failed</td>\n",
       "      <td>3</td>\n",
       "      <td>US</td>\n",
       "      <td>220.0</td>\n",
       "      <td>220.0</td>\n",
       "      <td>45000.00</td>\n",
       "    </tr>\n",
       "    <tr>\n",
       "      <td>3</td>\n",
       "      <td>Music</td>\n",
       "      <td>Music</td>\n",
       "      <td>5000.0</td>\n",
       "      <td>1.0</td>\n",
       "      <td>failed</td>\n",
       "      <td>1</td>\n",
       "      <td>US</td>\n",
       "      <td>1.0</td>\n",
       "      <td>1.0</td>\n",
       "      <td>5000.00</td>\n",
       "    </tr>\n",
       "    <tr>\n",
       "      <td>4</td>\n",
       "      <td>Film &amp; Video</td>\n",
       "      <td>Film &amp; Video</td>\n",
       "      <td>19500.0</td>\n",
       "      <td>1283.0</td>\n",
       "      <td>canceled</td>\n",
       "      <td>14</td>\n",
       "      <td>US</td>\n",
       "      <td>1283.0</td>\n",
       "      <td>1283.0</td>\n",
       "      <td>19500.00</td>\n",
       "    </tr>\n",
       "  </tbody>\n",
       "</table>\n",
       "</div>"
      ],
      "text/plain": [
       "         category main_category     goal  pledged     state  backers country  \\\n",
       "0          Poetry    Publishing   1000.0      0.0    failed        0      GB   \n",
       "1  Narrative Film  Film & Video  30000.0   2421.0    failed       15      US   \n",
       "2  Narrative Film  Film & Video  45000.0    220.0    failed        3      US   \n",
       "3           Music         Music   5000.0      1.0    failed        1      US   \n",
       "4    Film & Video  Film & Video  19500.0   1283.0  canceled       14      US   \n",
       "\n",
       "   usd pledged  usd_pledged_real  usd_goal_real  \n",
       "0          0.0               0.0        1533.95  \n",
       "1        100.0            2421.0       30000.00  \n",
       "2        220.0             220.0       45000.00  \n",
       "3          1.0               1.0        5000.00  \n",
       "4       1283.0            1283.0       19500.00  "
      ]
     },
     "execution_count": 14,
     "metadata": {},
     "output_type": "execute_result"
    }
   ],
   "source": [
    "data2.drop(labels = [\"deadline\",\"launched\",\"currency\"], axis = 1, inplace = True)\n",
    "data2.head()"
   ]
  },
  {
   "cell_type": "markdown",
   "metadata": {
    "_uuid": "add1abd087fdadebb3a797140e392d2e8b19c515"
   },
   "source": [
    "Upload the diff.csv file which provides the number of days for each projest."
   ]
  },
  {
   "cell_type": "code",
   "execution_count": 15,
   "metadata": {
    "_uuid": "e99152deab06fd8dbc6ac7f05b808098e5fb1d03"
   },
   "outputs": [
    {
     "data": {
      "text/html": [
       "<div>\n",
       "<style scoped>\n",
       "    .dataframe tbody tr th:only-of-type {\n",
       "        vertical-align: middle;\n",
       "    }\n",
       "\n",
       "    .dataframe tbody tr th {\n",
       "        vertical-align: top;\n",
       "    }\n",
       "\n",
       "    .dataframe thead th {\n",
       "        text-align: right;\n",
       "    }\n",
       "</style>\n",
       "<table border=\"1\" class=\"dataframe\">\n",
       "  <thead>\n",
       "    <tr style=\"text-align: right;\">\n",
       "      <th></th>\n",
       "      <th>diff</th>\n",
       "    </tr>\n",
       "  </thead>\n",
       "  <tbody>\n",
       "    <tr>\n",
       "      <td>0</td>\n",
       "      <td>58.491343</td>\n",
       "    </tr>\n",
       "    <tr>\n",
       "      <td>1</td>\n",
       "      <td>59.802813</td>\n",
       "    </tr>\n",
       "    <tr>\n",
       "      <td>2</td>\n",
       "      <td>44.985532</td>\n",
       "    </tr>\n",
       "    <tr>\n",
       "      <td>3</td>\n",
       "      <td>29.858206</td>\n",
       "    </tr>\n",
       "    <tr>\n",
       "      <td>4</td>\n",
       "      <td>55.642326</td>\n",
       "    </tr>\n",
       "  </tbody>\n",
       "</table>\n",
       "</div>"
      ],
      "text/plain": [
       "        diff\n",
       "0  58.491343\n",
       "1  59.802813\n",
       "2  44.985532\n",
       "3  29.858206\n",
       "4  55.642326"
      ]
     },
     "execution_count": 15,
     "metadata": {},
     "output_type": "execute_result"
    }
   ],
   "source": [
    "#NumOfDays = pd.read_csv(\"C:/Users/DASLAB Hareland 3/Desktop/atashnezhad-ai-interview-code-amin-2a2ca6bbf490/diff.csv\")\n",
    "#NumOfDays.head()\n",
    "#NumOfDays = pd.read_csv(\"C:/Users/Farshid/Documents/ai-interview-code-amin/diff.csv\")\n",
    "NumOfDays = pd.read_csv(\"../input/diff.csv\")\n",
    "NumOfDays.head()"
   ]
  },
  {
   "cell_type": "markdown",
   "metadata": {
    "_uuid": "1edba53f7551b02393e616a055d94ec9eebb61c3"
   },
   "source": [
    "# Data3"
   ]
  },
  {
   "cell_type": "code",
   "execution_count": 16,
   "metadata": {
    "_uuid": "f33eb92fe15f02145f0471a01b53cd708caede9f"
   },
   "outputs": [
    {
     "data": {
      "text/html": [
       "<div>\n",
       "<style scoped>\n",
       "    .dataframe tbody tr th:only-of-type {\n",
       "        vertical-align: middle;\n",
       "    }\n",
       "\n",
       "    .dataframe tbody tr th {\n",
       "        vertical-align: top;\n",
       "    }\n",
       "\n",
       "    .dataframe thead th {\n",
       "        text-align: right;\n",
       "    }\n",
       "</style>\n",
       "<table border=\"1\" class=\"dataframe\">\n",
       "  <thead>\n",
       "    <tr style=\"text-align: right;\">\n",
       "      <th></th>\n",
       "      <th>category</th>\n",
       "      <th>main_category</th>\n",
       "      <th>goal</th>\n",
       "      <th>pledged</th>\n",
       "      <th>state</th>\n",
       "      <th>backers</th>\n",
       "      <th>country</th>\n",
       "      <th>usd pledged</th>\n",
       "      <th>usd_pledged_real</th>\n",
       "      <th>usd_goal_real</th>\n",
       "      <th>NumOfDays</th>\n",
       "    </tr>\n",
       "  </thead>\n",
       "  <tbody>\n",
       "    <tr>\n",
       "      <td>0</td>\n",
       "      <td>Poetry</td>\n",
       "      <td>Publishing</td>\n",
       "      <td>1000.0</td>\n",
       "      <td>0.0</td>\n",
       "      <td>failed</td>\n",
       "      <td>0</td>\n",
       "      <td>GB</td>\n",
       "      <td>0.0</td>\n",
       "      <td>0.0</td>\n",
       "      <td>1533.95</td>\n",
       "      <td>58.491343</td>\n",
       "    </tr>\n",
       "    <tr>\n",
       "      <td>1</td>\n",
       "      <td>Narrative Film</td>\n",
       "      <td>Film &amp; Video</td>\n",
       "      <td>30000.0</td>\n",
       "      <td>2421.0</td>\n",
       "      <td>failed</td>\n",
       "      <td>15</td>\n",
       "      <td>US</td>\n",
       "      <td>100.0</td>\n",
       "      <td>2421.0</td>\n",
       "      <td>30000.00</td>\n",
       "      <td>59.802813</td>\n",
       "    </tr>\n",
       "    <tr>\n",
       "      <td>2</td>\n",
       "      <td>Narrative Film</td>\n",
       "      <td>Film &amp; Video</td>\n",
       "      <td>45000.0</td>\n",
       "      <td>220.0</td>\n",
       "      <td>failed</td>\n",
       "      <td>3</td>\n",
       "      <td>US</td>\n",
       "      <td>220.0</td>\n",
       "      <td>220.0</td>\n",
       "      <td>45000.00</td>\n",
       "      <td>44.985532</td>\n",
       "    </tr>\n",
       "    <tr>\n",
       "      <td>3</td>\n",
       "      <td>Music</td>\n",
       "      <td>Music</td>\n",
       "      <td>5000.0</td>\n",
       "      <td>1.0</td>\n",
       "      <td>failed</td>\n",
       "      <td>1</td>\n",
       "      <td>US</td>\n",
       "      <td>1.0</td>\n",
       "      <td>1.0</td>\n",
       "      <td>5000.00</td>\n",
       "      <td>29.858206</td>\n",
       "    </tr>\n",
       "    <tr>\n",
       "      <td>4</td>\n",
       "      <td>Film &amp; Video</td>\n",
       "      <td>Film &amp; Video</td>\n",
       "      <td>19500.0</td>\n",
       "      <td>1283.0</td>\n",
       "      <td>canceled</td>\n",
       "      <td>14</td>\n",
       "      <td>US</td>\n",
       "      <td>1283.0</td>\n",
       "      <td>1283.0</td>\n",
       "      <td>19500.00</td>\n",
       "      <td>55.642326</td>\n",
       "    </tr>\n",
       "  </tbody>\n",
       "</table>\n",
       "</div>"
      ],
      "text/plain": [
       "         category main_category     goal  pledged     state  backers country  \\\n",
       "0          Poetry    Publishing   1000.0      0.0    failed        0      GB   \n",
       "1  Narrative Film  Film & Video  30000.0   2421.0    failed       15      US   \n",
       "2  Narrative Film  Film & Video  45000.0    220.0    failed        3      US   \n",
       "3           Music         Music   5000.0      1.0    failed        1      US   \n",
       "4    Film & Video  Film & Video  19500.0   1283.0  canceled       14      US   \n",
       "\n",
       "   usd pledged  usd_pledged_real  usd_goal_real  NumOfDays  \n",
       "0          0.0               0.0        1533.95  58.491343  \n",
       "1        100.0            2421.0       30000.00  59.802813  \n",
       "2        220.0             220.0       45000.00  44.985532  \n",
       "3          1.0               1.0        5000.00  29.858206  \n",
       "4       1283.0            1283.0       19500.00  55.642326  "
      ]
     },
     "execution_count": 16,
     "metadata": {},
     "output_type": "execute_result"
    }
   ],
   "source": [
    "import copy\n",
    "data3=copy.deepcopy(data2)\n",
    "data3['NumOfDays']=NumOfDays\n",
    "data3.head()"
   ]
  },
  {
   "cell_type": "markdown",
   "metadata": {
    "_uuid": "a696c554ca165839db69acd6a747093f52370c82"
   },
   "source": [
    "# Plotting and Visualizing Data"
   ]
  },
  {
   "cell_type": "code",
   "execution_count": 17,
   "metadata": {
    "_uuid": "4ab6d2d515638618d56f012d11e37263ce3dc2b0"
   },
   "outputs": [
    {
     "data": {
      "text/html": [
       "<div>\n",
       "<style scoped>\n",
       "    .dataframe tbody tr th:only-of-type {\n",
       "        vertical-align: middle;\n",
       "    }\n",
       "\n",
       "    .dataframe tbody tr th {\n",
       "        vertical-align: top;\n",
       "    }\n",
       "\n",
       "    .dataframe thead th {\n",
       "        text-align: right;\n",
       "    }\n",
       "</style>\n",
       "<table border=\"1\" class=\"dataframe\">\n",
       "  <thead>\n",
       "    <tr style=\"text-align: right;\">\n",
       "      <th></th>\n",
       "      <th>category</th>\n",
       "      <th>main_category</th>\n",
       "      <th>goal</th>\n",
       "      <th>pledged</th>\n",
       "      <th>state</th>\n",
       "      <th>backers</th>\n",
       "      <th>country</th>\n",
       "      <th>usd pledged</th>\n",
       "      <th>usd_pledged_real</th>\n",
       "      <th>usd_goal_real</th>\n",
       "      <th>NumOfDays</th>\n",
       "    </tr>\n",
       "  </thead>\n",
       "  <tbody>\n",
       "    <tr>\n",
       "      <td>0</td>\n",
       "      <td>Poetry</td>\n",
       "      <td>Publishing</td>\n",
       "      <td>1000.0</td>\n",
       "      <td>0.0</td>\n",
       "      <td>failed</td>\n",
       "      <td>0</td>\n",
       "      <td>GB</td>\n",
       "      <td>0.0</td>\n",
       "      <td>0.0</td>\n",
       "      <td>1533.95</td>\n",
       "      <td>58.491343</td>\n",
       "    </tr>\n",
       "    <tr>\n",
       "      <td>1</td>\n",
       "      <td>Narrative Film</td>\n",
       "      <td>Film &amp; Video</td>\n",
       "      <td>30000.0</td>\n",
       "      <td>2421.0</td>\n",
       "      <td>failed</td>\n",
       "      <td>15</td>\n",
       "      <td>US</td>\n",
       "      <td>100.0</td>\n",
       "      <td>2421.0</td>\n",
       "      <td>30000.00</td>\n",
       "      <td>59.802813</td>\n",
       "    </tr>\n",
       "    <tr>\n",
       "      <td>2</td>\n",
       "      <td>Narrative Film</td>\n",
       "      <td>Film &amp; Video</td>\n",
       "      <td>45000.0</td>\n",
       "      <td>220.0</td>\n",
       "      <td>failed</td>\n",
       "      <td>3</td>\n",
       "      <td>US</td>\n",
       "      <td>220.0</td>\n",
       "      <td>220.0</td>\n",
       "      <td>45000.00</td>\n",
       "      <td>44.985532</td>\n",
       "    </tr>\n",
       "    <tr>\n",
       "      <td>3</td>\n",
       "      <td>Music</td>\n",
       "      <td>Music</td>\n",
       "      <td>5000.0</td>\n",
       "      <td>1.0</td>\n",
       "      <td>failed</td>\n",
       "      <td>1</td>\n",
       "      <td>US</td>\n",
       "      <td>1.0</td>\n",
       "      <td>1.0</td>\n",
       "      <td>5000.00</td>\n",
       "      <td>29.858206</td>\n",
       "    </tr>\n",
       "    <tr>\n",
       "      <td>4</td>\n",
       "      <td>Film &amp; Video</td>\n",
       "      <td>Film &amp; Video</td>\n",
       "      <td>19500.0</td>\n",
       "      <td>1283.0</td>\n",
       "      <td>canceled</td>\n",
       "      <td>14</td>\n",
       "      <td>US</td>\n",
       "      <td>1283.0</td>\n",
       "      <td>1283.0</td>\n",
       "      <td>19500.00</td>\n",
       "      <td>55.642326</td>\n",
       "    </tr>\n",
       "  </tbody>\n",
       "</table>\n",
       "</div>"
      ],
      "text/plain": [
       "         category main_category     goal  pledged     state  backers country  \\\n",
       "0          Poetry    Publishing   1000.0      0.0    failed        0      GB   \n",
       "1  Narrative Film  Film & Video  30000.0   2421.0    failed       15      US   \n",
       "2  Narrative Film  Film & Video  45000.0    220.0    failed        3      US   \n",
       "3           Music         Music   5000.0      1.0    failed        1      US   \n",
       "4    Film & Video  Film & Video  19500.0   1283.0  canceled       14      US   \n",
       "\n",
       "   usd pledged  usd_pledged_real  usd_goal_real  NumOfDays  \n",
       "0          0.0               0.0        1533.95  58.491343  \n",
       "1        100.0            2421.0       30000.00  59.802813  \n",
       "2        220.0             220.0       45000.00  44.985532  \n",
       "3          1.0               1.0        5000.00  29.858206  \n",
       "4       1283.0            1283.0       19500.00  55.642326  "
      ]
     },
     "execution_count": 17,
     "metadata": {},
     "output_type": "execute_result"
    }
   ],
   "source": [
    "#data3.describe()\n",
    "data3.head()"
   ]
  },
  {
   "cell_type": "markdown",
   "metadata": {
    "_uuid": "a1107c9a76377b13f8a43275d1aa9fc4175bc808"
   },
   "source": [
    "Data has lot of skews. The random foreset, descion tree are used to model these data. before that some works should be done on data.\n",
    "Final cumulative graph of a pair plot that shows the relations between all of the different features."
   ]
  },
  {
   "cell_type": "markdown",
   "metadata": {
    "_uuid": "8ccd6c6898fad80ca8f0c4ceed9dba0c65ff9b64"
   },
   "source": [
    "# Feature Engineering\n",
    "\n",
    "Take the objects out of data and save it as data_obj\n",
    "\n",
    "Replace the data 3 objects into the data_obj and work with data_obj to make sure original data is kept."
   ]
  },
  {
   "cell_type": "code",
   "execution_count": 18,
   "metadata": {
    "_uuid": "8e6ec300ec0893331e99768d944445a6bf125b76"
   },
   "outputs": [
    {
     "data": {
      "text/html": [
       "<div>\n",
       "<style scoped>\n",
       "    .dataframe tbody tr th:only-of-type {\n",
       "        vertical-align: middle;\n",
       "    }\n",
       "\n",
       "    .dataframe tbody tr th {\n",
       "        vertical-align: top;\n",
       "    }\n",
       "\n",
       "    .dataframe thead th {\n",
       "        text-align: right;\n",
       "    }\n",
       "</style>\n",
       "<table border=\"1\" class=\"dataframe\">\n",
       "  <thead>\n",
       "    <tr style=\"text-align: right;\">\n",
       "      <th></th>\n",
       "      <th>category</th>\n",
       "      <th>main_category</th>\n",
       "      <th>state</th>\n",
       "      <th>country</th>\n",
       "    </tr>\n",
       "  </thead>\n",
       "  <tbody>\n",
       "    <tr>\n",
       "      <td>0</td>\n",
       "      <td>Poetry</td>\n",
       "      <td>Publishing</td>\n",
       "      <td>failed</td>\n",
       "      <td>GB</td>\n",
       "    </tr>\n",
       "    <tr>\n",
       "      <td>1</td>\n",
       "      <td>Narrative Film</td>\n",
       "      <td>Film &amp; Video</td>\n",
       "      <td>failed</td>\n",
       "      <td>US</td>\n",
       "    </tr>\n",
       "    <tr>\n",
       "      <td>2</td>\n",
       "      <td>Narrative Film</td>\n",
       "      <td>Film &amp; Video</td>\n",
       "      <td>failed</td>\n",
       "      <td>US</td>\n",
       "    </tr>\n",
       "    <tr>\n",
       "      <td>3</td>\n",
       "      <td>Music</td>\n",
       "      <td>Music</td>\n",
       "      <td>failed</td>\n",
       "      <td>US</td>\n",
       "    </tr>\n",
       "    <tr>\n",
       "      <td>4</td>\n",
       "      <td>Film &amp; Video</td>\n",
       "      <td>Film &amp; Video</td>\n",
       "      <td>canceled</td>\n",
       "      <td>US</td>\n",
       "    </tr>\n",
       "  </tbody>\n",
       "</table>\n",
       "</div>"
      ],
      "text/plain": [
       "         category main_category     state country\n",
       "0          Poetry    Publishing    failed      GB\n",
       "1  Narrative Film  Film & Video    failed      US\n",
       "2  Narrative Film  Film & Video    failed      US\n",
       "3           Music         Music    failed      US\n",
       "4    Film & Video  Film & Video  canceled      US"
      ]
     },
     "execution_count": 18,
     "metadata": {},
     "output_type": "execute_result"
    }
   ],
   "source": [
    "data_obj = data3.select_dtypes(include=['object']).copy()\n",
    "data_obj.head()"
   ]
  },
  {
   "cell_type": "code",
   "execution_count": 19,
   "metadata": {
    "_uuid": "4205b7eb1950f72d6d1f6e1e1aca74dd4a5541cb"
   },
   "outputs": [
    {
     "name": "stdout",
     "output_type": "stream",
     "text": [
      "0\n",
      "category         0\n",
      "main_category    0\n",
      "state            0\n",
      "country          0\n",
      "dtype: int64\n"
     ]
    }
   ],
   "source": [
    "# Just Doule check null values. Number of null values in data_obj. which were filtered already.\n",
    "print(data_obj.isnull().values.sum())\n",
    "# Doule check null values. Number of null values in data_obj by taking the columns into account. \n",
    "print(data_obj.isnull().sum())"
   ]
  },
  {
   "cell_type": "markdown",
   "metadata": {
    "_uuid": "77796c00719ecb0f377a1326f261c97b307209dc"
   },
   "source": [
    "check out the frequency distribution of categories within the feature"
   ]
  },
  {
   "cell_type": "code",
   "execution_count": 20,
   "metadata": {
    "_uuid": "c09021471cdb0539190d56a73c8892490e582f2b"
   },
   "outputs": [
    {
     "name": "stdout",
     "output_type": "stream",
     "text": [
      "159\n",
      "15\n",
      "5\n",
      "22\n"
     ]
    }
   ],
   "source": [
    "print(data_obj['category'].value_counts().count())\n",
    "print(data_obj['main_category'].value_counts().count())\n",
    "print(data_obj['state'].value_counts().count())\n",
    "print(data_obj['country'].value_counts().count())"
   ]
  },
  {
   "cell_type": "code",
   "execution_count": 21,
   "metadata": {
    "_uuid": "40b818b4d432baf8523bcba7679d0f3bdb0d33bc"
   },
   "outputs": [],
   "source": [
    "#from matplotlib import rcParams\n",
    "# figure size in inches\n",
    "#rcParams['figure.figsize'] = 15.7,8.27\n",
    "#visualizing main_category\n",
    "#main_category_count = data_obj['main_category'].value_counts()\n",
    "#sns.set(style=\"darkgrid\")\n",
    "#sns.barplot(main_category_count.index, main_category_count.values, alpha=0.9)\n",
    "#plt.title('Frequency Distribution of main_category')\n",
    "#plt.ylabel('Number of Occurrences', fontsize=12)\n",
    "#plt.xlabel('main_category', fontsize=12)\n",
    "#plt.show()"
   ]
  },
  {
   "cell_type": "markdown",
   "metadata": {
    "_uuid": "93242f1c876fb1fbd28755358e32a755d363ee8f"
   },
   "source": [
    "Begin Data Featuring. Replace Values with digits. The models work with digits."
   ]
  },
  {
   "cell_type": "code",
   "execution_count": 22,
   "metadata": {
    "_uuid": "febcc128b5dfac98d9a03f041bf4bb8e40b1169c"
   },
   "outputs": [
    {
     "name": "stdout",
     "output_type": "stream",
     "text": [
      "{'category': {'3D Printing': 1, 'Academic': 2, 'Accessories': 3, 'Action': 4, 'Animals': 5, 'Animation': 6, 'Anthologies': 7, 'Apparel': 8, 'Apps': 9, 'Architecture': 10, 'Art': 11, 'Art Books': 12, 'Audio': 13, 'Bacon': 14, 'Blues': 15, 'Calendars': 16, 'Camera Equipment': 17, 'Candles': 18, 'Ceramics': 19, \"Children's Books\": 20, 'Childrenswear': 21, 'Chiptune': 22, 'Civic Design': 23, 'Classical Music': 24, 'Comedy': 25, 'Comic Books': 26, 'Comics': 27, 'Community Gardens': 28, 'Conceptual Art': 29, 'Cookbooks': 30, 'Country & Folk': 31, 'Couture': 32, 'Crafts': 33, 'Crochet': 34, 'DIY': 35, 'DIY Electronics': 36, 'Dance': 37, 'Design': 38, 'Digital Art': 39, 'Documentary': 40, 'Drama': 41, 'Drinks': 42, 'Electronic Music': 43, 'Embroidery': 44, 'Events': 45, 'Experimental': 46, 'Fabrication Tools': 47, 'Faith': 48, 'Family': 49, 'Fantasy': 50, \"Farmer's Markets\": 51, 'Farms': 52, 'Fashion': 53, 'Festivals': 54, 'Fiction': 55, 'Film & Video': 56, 'Fine Art': 57, 'Flight': 58, 'Food': 59, 'Food Trucks': 60, 'Footwear': 61, 'Gadgets': 62, 'Games': 63, 'Gaming Hardware': 64, 'Glass': 65, 'Graphic Design': 66, 'Graphic Novels': 67, 'Hardware': 68, 'Hip-Hop': 69, 'Horror': 70, 'Illustration': 71, 'Immersive': 72, 'Indie Rock': 73, 'Installations': 74, 'Interactive Design': 75, 'Jazz': 76, 'Jewelry': 77, 'Journalism': 78, 'Kids': 79, 'Knitting': 80, 'Latin': 81, 'Letterpress': 82, 'Literary Journals': 83, 'Literary Spaces': 84, 'Live Games': 85, 'Makerspaces': 86, 'Metal': 87, 'Mixed Media': 88, 'Mobile Games': 89, 'Movie Theaters': 90, 'Music': 91, 'Music Videos': 92, 'Musical': 93, 'Narrative Film': 94, 'Nature': 95, 'Nonfiction': 96, 'Painting': 97, 'People': 98, 'Performance Art': 99, 'Performances': 100, 'Periodicals': 101, 'Pet Fashion': 102, 'Photo': 103, 'Photobooks': 104, 'Photography': 105, 'Places': 106, 'Playing Cards': 107, 'Plays': 108, 'Poetry': 109, 'Pop': 110, 'Pottery': 111, 'Print': 112, 'Printing': 113, 'Product Design': 114, 'Public Art': 115, 'Publishing': 116, 'Punk': 117, 'Puzzles': 118, 'Quilts': 119, 'R&B': 120, 'Radio & Podcasts': 121, 'Ready-to-wear': 122, 'Residencies': 123, 'Restaurants': 124, 'Robots': 125, 'Rock': 126, 'Romance': 127, 'Science Fiction': 128, 'Sculpture': 129, 'Shorts': 130, 'Small Batch': 131, 'Software': 132, 'Sound': 133, 'Space Exploration': 134, 'Spaces': 135, 'Stationery': 136, 'Tabletop Games': 137, 'Taxidermy': 138, 'Technology': 139, 'Television': 140, 'Textiles': 141, 'Theater': 142, 'Thrillers': 143, 'Translations': 144, 'Typography': 145, 'Vegan': 146, 'Video': 147, 'Video Art': 148, 'Video Games': 149, 'Wearables': 150, 'Weaving': 151, 'Web': 152, 'Webcomics': 153, 'Webseries': 154, 'Woodworking': 155, 'Workshops': 156, 'World Music': 157, 'Young Adult': 158, 'Zines': 159}}\n",
      "   category main_category     state country\n",
      "0       109    Publishing    failed      GB\n",
      "1        94  Film & Video    failed      US\n",
      "2        94  Film & Video    failed      US\n",
      "3        91         Music    failed      US\n",
      "4        56  Film & Video  canceled      US\n",
      "{'main_category': {'Art': 1, 'Comics': 2, 'Crafts': 3, 'Dance': 4, 'Design': 5, 'Fashion': 6, 'Film & Video': 7, 'Food': 8, 'Games': 9, 'Journalism': 10, 'Music': 11, 'Photography': 12, 'Publishing': 13, 'Technology': 14, 'Theater': 15}}\n",
      "   category  main_category     state country\n",
      "0       109             13    failed      GB\n",
      "1        94              7    failed      US\n",
      "2        94              7    failed      US\n",
      "3        91             11    failed      US\n",
      "4        56              7  canceled      US\n",
      "{'state': {'canceled': 1, 'failed': 2, 'live': 3, 'successful': 4, 'suspended': 5}}\n",
      "   category  main_category  state country\n",
      "0       109             13      2      GB\n",
      "1        94              7      2      US\n",
      "2        94              7      2      US\n",
      "3        91             11      2      US\n",
      "4        56              7      1      US\n",
      "{'country': {'AT': 1, 'AU': 2, 'BE': 3, 'CA': 4, 'CH': 5, 'DE': 6, 'DK': 7, 'ES': 8, 'FR': 9, 'GB': 10, 'HK': 11, 'IE': 12, 'IT': 13, 'JP': 14, 'LU': 15, 'MX': 16, 'NL': 17, 'NO': 18, 'NZ': 19, 'SE': 20, 'SG': 21, 'US': 22}}\n",
      "   category  main_category  state  country\n",
      "0       109             13      2       10\n",
      "1        94              7      2       22\n",
      "2        94              7      2       22\n",
      "3        91             11      2       22\n",
      "4        56              7      1       22\n"
     ]
    }
   ],
   "source": [
    "labels = data_obj['category'].astype('category').cat.categories.tolist()\n",
    "replace_map_comp1 = {'category' : {k: v for k,v in zip(labels,list(range(1,len(labels)+1)))}}\n",
    "print(replace_map_comp1)\n",
    "data_obj.replace(replace_map_comp1, inplace=True)\n",
    "print(data_obj.head())\n",
    "\n",
    "labels = data_obj['main_category'].astype('category').cat.categories.tolist()\n",
    "replace_map_comp2 = {'main_category' : {k: v for k,v in zip(labels,list(range(1,len(labels)+1)))}}\n",
    "print(replace_map_comp2)\n",
    "data_obj.replace(replace_map_comp2, inplace=True)\n",
    "print(data_obj.head())\n",
    "\n",
    "labels = data_obj['state'].astype('category').cat.categories.tolist()\n",
    "replace_map_comp3 = {'state' : {k: v for k,v in zip(labels,list(range(1,len(labels)+1)))}}\n",
    "print(replace_map_comp3)\n",
    "data_obj.replace(replace_map_comp3, inplace=True)\n",
    "print(data_obj.head())\n",
    "\n",
    "labels = data_obj['country'].astype('category').cat.categories.tolist()\n",
    "replace_map_comp4 = {'country' : {k: v for k,v in zip(labels,list(range(1,len(labels)+1)))}}\n",
    "print(replace_map_comp4)\n",
    "data_obj.replace(replace_map_comp4, inplace=True)\n",
    "print(data_obj.head())"
   ]
  },
  {
   "cell_type": "markdown",
   "metadata": {
    "_uuid": "aa598eac0e56d7dad56d70f323026bceaa15501f"
   },
   "source": [
    "Fix the data3 values by repalcing data_obj into the data3."
   ]
  },
  {
   "cell_type": "code",
   "execution_count": 23,
   "metadata": {
    "_uuid": "9de1d969a12764089dfe27d3a0f540847c4c8f2f"
   },
   "outputs": [
    {
     "data": {
      "text/html": [
       "<div>\n",
       "<style scoped>\n",
       "    .dataframe tbody tr th:only-of-type {\n",
       "        vertical-align: middle;\n",
       "    }\n",
       "\n",
       "    .dataframe tbody tr th {\n",
       "        vertical-align: top;\n",
       "    }\n",
       "\n",
       "    .dataframe thead th {\n",
       "        text-align: right;\n",
       "    }\n",
       "</style>\n",
       "<table border=\"1\" class=\"dataframe\">\n",
       "  <thead>\n",
       "    <tr style=\"text-align: right;\">\n",
       "      <th></th>\n",
       "      <th>category</th>\n",
       "      <th>main_category</th>\n",
       "      <th>goal</th>\n",
       "      <th>pledged</th>\n",
       "      <th>state</th>\n",
       "      <th>backers</th>\n",
       "      <th>country</th>\n",
       "      <th>usd pledged</th>\n",
       "      <th>usd_pledged_real</th>\n",
       "      <th>usd_goal_real</th>\n",
       "      <th>NumOfDays</th>\n",
       "    </tr>\n",
       "  </thead>\n",
       "  <tbody>\n",
       "    <tr>\n",
       "      <td>0</td>\n",
       "      <td>109</td>\n",
       "      <td>13</td>\n",
       "      <td>1000.0</td>\n",
       "      <td>0.0</td>\n",
       "      <td>2</td>\n",
       "      <td>0</td>\n",
       "      <td>10</td>\n",
       "      <td>0.0</td>\n",
       "      <td>0.0</td>\n",
       "      <td>1533.95</td>\n",
       "      <td>58.491343</td>\n",
       "    </tr>\n",
       "    <tr>\n",
       "      <td>1</td>\n",
       "      <td>94</td>\n",
       "      <td>7</td>\n",
       "      <td>30000.0</td>\n",
       "      <td>2421.0</td>\n",
       "      <td>2</td>\n",
       "      <td>15</td>\n",
       "      <td>22</td>\n",
       "      <td>100.0</td>\n",
       "      <td>2421.0</td>\n",
       "      <td>30000.00</td>\n",
       "      <td>59.802813</td>\n",
       "    </tr>\n",
       "    <tr>\n",
       "      <td>2</td>\n",
       "      <td>94</td>\n",
       "      <td>7</td>\n",
       "      <td>45000.0</td>\n",
       "      <td>220.0</td>\n",
       "      <td>2</td>\n",
       "      <td>3</td>\n",
       "      <td>22</td>\n",
       "      <td>220.0</td>\n",
       "      <td>220.0</td>\n",
       "      <td>45000.00</td>\n",
       "      <td>44.985532</td>\n",
       "    </tr>\n",
       "    <tr>\n",
       "      <td>3</td>\n",
       "      <td>91</td>\n",
       "      <td>11</td>\n",
       "      <td>5000.0</td>\n",
       "      <td>1.0</td>\n",
       "      <td>2</td>\n",
       "      <td>1</td>\n",
       "      <td>22</td>\n",
       "      <td>1.0</td>\n",
       "      <td>1.0</td>\n",
       "      <td>5000.00</td>\n",
       "      <td>29.858206</td>\n",
       "    </tr>\n",
       "    <tr>\n",
       "      <td>4</td>\n",
       "      <td>56</td>\n",
       "      <td>7</td>\n",
       "      <td>19500.0</td>\n",
       "      <td>1283.0</td>\n",
       "      <td>1</td>\n",
       "      <td>14</td>\n",
       "      <td>22</td>\n",
       "      <td>1283.0</td>\n",
       "      <td>1283.0</td>\n",
       "      <td>19500.00</td>\n",
       "      <td>55.642326</td>\n",
       "    </tr>\n",
       "  </tbody>\n",
       "</table>\n",
       "</div>"
      ],
      "text/plain": [
       "   category  main_category     goal  pledged  state  backers  country  \\\n",
       "0       109             13   1000.0      0.0      2        0       10   \n",
       "1        94              7  30000.0   2421.0      2       15       22   \n",
       "2        94              7  45000.0    220.0      2        3       22   \n",
       "3        91             11   5000.0      1.0      2        1       22   \n",
       "4        56              7  19500.0   1283.0      1       14       22   \n",
       "\n",
       "   usd pledged  usd_pledged_real  usd_goal_real  NumOfDays  \n",
       "0          0.0               0.0        1533.95  58.491343  \n",
       "1        100.0            2421.0       30000.00  59.802813  \n",
       "2        220.0             220.0       45000.00  44.985532  \n",
       "3          1.0               1.0        5000.00  29.858206  \n",
       "4       1283.0            1283.0       19500.00  55.642326  "
      ]
     },
     "execution_count": 23,
     "metadata": {},
     "output_type": "execute_result"
    }
   ],
   "source": [
    "data3['category']=copy.deepcopy(data_obj['category'])\n",
    "data3['main_category']=copy.deepcopy(data_obj['main_category'])\n",
    "data3['state']=copy.deepcopy(data_obj['state'])\n",
    "data3['country']=copy.deepcopy(data_obj['country'])\n",
    "data3.head()"
   ]
  },
  {
   "cell_type": "markdown",
   "metadata": {
    "_uuid": "767d457e3fb0b4648ab619fea53f3654b4fb33cb"
   },
   "source": [
    "# Transformation \n",
    "Find those paramters that have bias and try to reduce the bias using some trasformations like power."
   ]
  },
  {
   "cell_type": "code",
   "execution_count": 24,
   "metadata": {
    "_uuid": "551a7e9bdeace43a9f219a84809f063eef0b59ff"
   },
   "outputs": [
    {
     "data": {
      "text/html": [
       "<div>\n",
       "<style scoped>\n",
       "    .dataframe tbody tr th:only-of-type {\n",
       "        vertical-align: middle;\n",
       "    }\n",
       "\n",
       "    .dataframe tbody tr th {\n",
       "        vertical-align: top;\n",
       "    }\n",
       "\n",
       "    .dataframe thead th {\n",
       "        text-align: right;\n",
       "    }\n",
       "</style>\n",
       "<table border=\"1\" class=\"dataframe\">\n",
       "  <thead>\n",
       "    <tr style=\"text-align: right;\">\n",
       "      <th></th>\n",
       "      <th>category</th>\n",
       "      <th>main_category</th>\n",
       "      <th>goal</th>\n",
       "      <th>pledged</th>\n",
       "      <th>state</th>\n",
       "      <th>backers</th>\n",
       "      <th>country</th>\n",
       "      <th>usd pledged</th>\n",
       "      <th>usd_pledged_real</th>\n",
       "      <th>usd_goal_real</th>\n",
       "      <th>NumOfDays</th>\n",
       "    </tr>\n",
       "  </thead>\n",
       "  <tbody>\n",
       "    <tr>\n",
       "      <td>count</td>\n",
       "      <td>374864.000000</td>\n",
       "      <td>374864.000000</td>\n",
       "      <td>3.748640e+05</td>\n",
       "      <td>3.748640e+05</td>\n",
       "      <td>374864.000000</td>\n",
       "      <td>374864.000000</td>\n",
       "      <td>374864.000000</td>\n",
       "      <td>3.748640e+05</td>\n",
       "      <td>3.748640e+05</td>\n",
       "      <td>3.748640e+05</td>\n",
       "      <td>374864.000000</td>\n",
       "    </tr>\n",
       "    <tr>\n",
       "      <td>mean</td>\n",
       "      <td>81.720512</td>\n",
       "      <td>8.494758</td>\n",
       "      <td>4.952310e+04</td>\n",
       "      <td>9.750436e+03</td>\n",
       "      <td>2.632963</td>\n",
       "      <td>106.687276</td>\n",
       "      <td>19.079450</td>\n",
       "      <td>7.036729e+03</td>\n",
       "      <td>9.120803e+03</td>\n",
       "      <td>4.586318e+04</td>\n",
       "      <td>33.931960</td>\n",
       "    </tr>\n",
       "    <tr>\n",
       "      <td>std</td>\n",
       "      <td>45.293968</td>\n",
       "      <td>3.915174</td>\n",
       "      <td>1.189355e+06</td>\n",
       "      <td>9.601043e+04</td>\n",
       "      <td>1.087543</td>\n",
       "      <td>911.705321</td>\n",
       "      <td>5.910642</td>\n",
       "      <td>7.863975e+04</td>\n",
       "      <td>9.131921e+04</td>\n",
       "      <td>1.158761e+06</td>\n",
       "      <td>66.235943</td>\n",
       "    </tr>\n",
       "    <tr>\n",
       "      <td>min</td>\n",
       "      <td>1.000000</td>\n",
       "      <td>1.000000</td>\n",
       "      <td>1.000000e-02</td>\n",
       "      <td>0.000000e+00</td>\n",
       "      <td>1.000000</td>\n",
       "      <td>0.000000</td>\n",
       "      <td>1.000000</td>\n",
       "      <td>0.000000e+00</td>\n",
       "      <td>0.000000e+00</td>\n",
       "      <td>1.000000e-02</td>\n",
       "      <td>0.005058</td>\n",
       "    </tr>\n",
       "    <tr>\n",
       "      <td>25%</td>\n",
       "      <td>40.000000</td>\n",
       "      <td>6.000000</td>\n",
       "      <td>2.000000e+03</td>\n",
       "      <td>3.100000e+01</td>\n",
       "      <td>2.000000</td>\n",
       "      <td>2.000000</td>\n",
       "      <td>22.000000</td>\n",
       "      <td>1.698000e+01</td>\n",
       "      <td>3.100000e+01</td>\n",
       "      <td>2.000000e+03</td>\n",
       "      <td>29.098044</td>\n",
       "    </tr>\n",
       "    <tr>\n",
       "      <td>50%</td>\n",
       "      <td>88.000000</td>\n",
       "      <td>8.000000</td>\n",
       "      <td>5.500000e+03</td>\n",
       "      <td>6.200000e+02</td>\n",
       "      <td>2.000000</td>\n",
       "      <td>12.000000</td>\n",
       "      <td>22.000000</td>\n",
       "      <td>3.947200e+02</td>\n",
       "      <td>6.244100e+02</td>\n",
       "      <td>5.500000e+03</td>\n",
       "      <td>29.690828</td>\n",
       "    </tr>\n",
       "    <tr>\n",
       "      <td>75%</td>\n",
       "      <td>122.000000</td>\n",
       "      <td>11.000000</td>\n",
       "      <td>1.650000e+04</td>\n",
       "      <td>4.080000e+03</td>\n",
       "      <td>4.000000</td>\n",
       "      <td>57.000000</td>\n",
       "      <td>22.000000</td>\n",
       "      <td>3.034090e+03</td>\n",
       "      <td>4.050815e+03</td>\n",
       "      <td>1.600000e+04</td>\n",
       "      <td>36.742758</td>\n",
       "    </tr>\n",
       "    <tr>\n",
       "      <td>max</td>\n",
       "      <td>159.000000</td>\n",
       "      <td>15.000000</td>\n",
       "      <td>1.000000e+08</td>\n",
       "      <td>2.033899e+07</td>\n",
       "      <td>5.000000</td>\n",
       "      <td>219382.000000</td>\n",
       "      <td>22.000000</td>\n",
       "      <td>2.033899e+07</td>\n",
       "      <td>2.033899e+07</td>\n",
       "      <td>1.663614e+08</td>\n",
       "      <td>16738.958330</td>\n",
       "    </tr>\n",
       "  </tbody>\n",
       "</table>\n",
       "</div>"
      ],
      "text/plain": [
       "            category  main_category          goal       pledged  \\\n",
       "count  374864.000000  374864.000000  3.748640e+05  3.748640e+05   \n",
       "mean       81.720512       8.494758  4.952310e+04  9.750436e+03   \n",
       "std        45.293968       3.915174  1.189355e+06  9.601043e+04   \n",
       "min         1.000000       1.000000  1.000000e-02  0.000000e+00   \n",
       "25%        40.000000       6.000000  2.000000e+03  3.100000e+01   \n",
       "50%        88.000000       8.000000  5.500000e+03  6.200000e+02   \n",
       "75%       122.000000      11.000000  1.650000e+04  4.080000e+03   \n",
       "max       159.000000      15.000000  1.000000e+08  2.033899e+07   \n",
       "\n",
       "               state        backers        country   usd pledged  \\\n",
       "count  374864.000000  374864.000000  374864.000000  3.748640e+05   \n",
       "mean        2.632963     106.687276      19.079450  7.036729e+03   \n",
       "std         1.087543     911.705321       5.910642  7.863975e+04   \n",
       "min         1.000000       0.000000       1.000000  0.000000e+00   \n",
       "25%         2.000000       2.000000      22.000000  1.698000e+01   \n",
       "50%         2.000000      12.000000      22.000000  3.947200e+02   \n",
       "75%         4.000000      57.000000      22.000000  3.034090e+03   \n",
       "max         5.000000  219382.000000      22.000000  2.033899e+07   \n",
       "\n",
       "       usd_pledged_real  usd_goal_real      NumOfDays  \n",
       "count      3.748640e+05   3.748640e+05  374864.000000  \n",
       "mean       9.120803e+03   4.586318e+04      33.931960  \n",
       "std        9.131921e+04   1.158761e+06      66.235943  \n",
       "min        0.000000e+00   1.000000e-02       0.005058  \n",
       "25%        3.100000e+01   2.000000e+03      29.098044  \n",
       "50%        6.244100e+02   5.500000e+03      29.690828  \n",
       "75%        4.050815e+03   1.600000e+04      36.742758  \n",
       "max        2.033899e+07   1.663614e+08   16738.958330  "
      ]
     },
     "execution_count": 24,
     "metadata": {},
     "output_type": "execute_result"
    }
   ],
   "source": [
    "data3.describe()"
   ]
  },
  {
   "cell_type": "markdown",
   "metadata": {
    "_uuid": "6ffbdd036aa8fe2179feedf6de6f7d123f196760"
   },
   "source": [
    "In this toturial we dont use the log transformation but you may try it and evalute the results. Just make sure that the min value of the columns should not be zero. You may add some constant (small non zero value) and evalute the prediction accuray. If you comapre the distribution plots, you can see that the log transformation will generate more distribution than the other type which is promising! You also may check how different between power and log transformation at the following:"
   ]
  },
  {
   "cell_type": "code",
   "execution_count": 25,
   "metadata": {
    "_uuid": "8ef69714a070e8399f1a8a99e829bdfb233508af"
   },
   "outputs": [
    {
     "data": {
      "image/png": "[encoded data removed]",
      "text/plain": [
       "<Figure size 1296x432 with 1 Axes>"
      ]
     },
     "metadata": {
      "needs_background": "light"
     },
     "output_type": "display_data"
    }
   ],
   "source": [
    "%matplotlib inline\n",
    "import math\n",
    "from matplotlib.pyplot import figure\n",
    "TTT=copy.deepcopy(data3)\n",
    "TTT=TTT.astype(float)\n",
    "TTT.head()\n",
    "from matplotlib import pyplot\n",
    "plt.figure(figsize=(18,6))\n",
    "pyplot.hist(np.log((TTT['backers']+0.0000001)), bins=200, color='red', label='Log Transformation')\n",
    "pyplot.hist((TTT['backers']**(1/5)), bins=200, color='blue', label='Power {} Transformation'.format(1/5))\n",
    "\n",
    "pyplot.title(\"Transformation for backers\")\n",
    "pyplot.legend(loc='upper right')\n",
    "pyplot.show()"
   ]
  },
  {
   "cell_type": "code",
   "execution_count": 26,
   "metadata": {
    "_uuid": "6efd6a044853b6c9791b5dfe1d7cca20d74832d3"
   },
   "outputs": [
    {
     "data": {
      "image/png": "[encoded data removed]",
      "text/plain": [
       "<Figure size 432x288 with 1 Axes>"
      ]
     },
     "metadata": {
      "needs_background": "light"
     },
     "output_type": "display_data"
    },
    {
     "data": {
      "image/png": "[encoded data removed]",
      "text/plain": [
       "<Figure size 432x288 with 1 Axes>"
      ]
     },
     "metadata": {
      "needs_background": "light"
     },
     "output_type": "display_data"
    },
    {
     "data": {
      "image/png": "[encoded data removed]",
      "text/plain": [
       "<Figure size 432x288 with 1 Axes>"
      ]
     },
     "metadata": {
      "needs_background": "light"
     },
     "output_type": "display_data"
    },
    {
     "data": {
      "image/png": "[encoded data removed]",
      "text/plain": [
       "<Figure size 432x288 with 1 Axes>"
      ]
     },
     "metadata": {
      "needs_background": "light"
     },
     "output_type": "display_data"
    },
    {
     "data": {
      "image/png": "[encoded data removed]",
      "text/plain": [
       "<Figure size 432x288 with 1 Axes>"
      ]
     },
     "metadata": {
      "needs_background": "light"
     },
     "output_type": "display_data"
    },
    {
     "data": {
      "image/png": "[encoded data removed]",
      "text/plain": [
       "<Figure size 432x288 with 1 Axes>"
      ]
     },
     "metadata": {
      "needs_background": "light"
     },
     "output_type": "display_data"
    },
    {
     "data": {
      "image/png": "[encoded data removed]",
      "text/plain": [
       "<Figure size 432x288 with 1 Axes>"
      ]
     },
     "metadata": {
      "needs_background": "light"
     },
     "output_type": "display_data"
    },
    {
     "data": {
      "image/png": "[encoded data removed]",
      "text/plain": [
       "<Figure size 432x288 with 1 Axes>"
      ]
     },
     "metadata": {
      "needs_background": "light"
     },
     "output_type": "display_data"
    },
    {
     "data": {
      "image/png": "[encoded data removed]",
      "text/plain": [
       "<Figure size 432x288 with 1 Axes>"
      ]
     },
     "metadata": {
      "needs_background": "light"
     },
     "output_type": "display_data"
    },
    {
     "data": {
      "image/png": "[encoded data removed]",
      "text/plain": [
       "<Figure size 432x288 with 1 Axes>"
      ]
     },
     "metadata": {
      "needs_background": "light"
     },
     "output_type": "display_data"
    },
    {
     "data": {
      "image/png": "[encoded data removed]",
      "text/plain": [
       "<Figure size 432x288 with 1 Axes>"
      ]
     },
     "metadata": {
      "needs_background": "light"
     },
     "output_type": "display_data"
    },
    {
     "data": {
      "image/png": "[encoded data removed]",
      "text/plain": [
       "<Figure size 432x288 with 1 Axes>"
      ]
     },
     "metadata": {
      "needs_background": "light"
     },
     "output_type": "display_data"
    },
    {
     "data": {
      "image/png": "[encoded data removed]",
      "text/plain": [
       "<Figure size 432x288 with 1 Axes>"
      ]
     },
     "metadata": {
      "needs_background": "light"
     },
     "output_type": "display_data"
    },
    {
     "data": {
      "image/png": "[encoded data removed]",
      "text/plain": [
       "<Figure size 432x288 with 1 Axes>"
      ]
     },
     "metadata": {
      "needs_background": "light"
     },
     "output_type": "display_data"
    }
   ],
   "source": [
    "%matplotlib inline\n",
    "from matplotlib import pyplot\n",
    "for i in[1,10]:\n",
    "    pyplot.hist(data3['NumOfDays']**(1/i), bins=40)\n",
    "    pyplot.title(\"Transformation NumOfDays: 1/{}\".format(str(i)))\n",
    "    pyplot.show() \n",
    "    \n",
    "for i in[1,15]:\n",
    "    pyplot.hist(data3['usd_pledged_real']**(1/i), bins=40)\n",
    "    pyplot.title(\"Transformation usd_pledged_real: 1/{}\".format(str(i)))\n",
    "    pyplot.show() \n",
    "\n",
    "for i in[1,15]:\n",
    "    pyplot.hist(data3['usd pledged']**(1/i), bins=40)\n",
    "    pyplot.title(\"Transformation pledged: 1/{}\".format(str(i)))\n",
    "    pyplot.show()  \n",
    "    \n",
    "for i in[1,20]:\n",
    "    pyplot.hist(data3['goal']**(1/i), bins=40)\n",
    "    pyplot.title(\"Transformation goal: 1/{}\".format(str(i)))\n",
    "    pyplot.show()  \n",
    "\n",
    "for i in[1,15]:\n",
    "    pyplot.hist(data3['pledged']**(1/i), bins=40)\n",
    "    pyplot.title(\"Transformation pledged: 1/{}\".format(str(i)))\n",
    "    pyplot.show()\n",
    "    \n",
    "for i in[1,10]:\n",
    "    pyplot.hist(data3['backers']**(1/i), bins=40)\n",
    "    pyplot.title(\"Transformation backers: 1/{}\".format(str(i)))\n",
    "    pyplot.show()\n",
    "    \n",
    "for i in[1,15]:\n",
    "    pyplot.hist(data3['usd_goal_real']**(1/i), bins=40)\n",
    "    pyplot.title(\"Transformation usd_goal_real: 1/{}\".format(str(i)))\n",
    "    pyplot.show() "
   ]
  },
  {
   "cell_type": "markdown",
   "metadata": {
    "_uuid": "66524087e7ffb709811de3ad1ff2ffc70099f7a0"
   },
   "source": [
    "Check out  the paramters distributions before transforming."
   ]
  },
  {
   "cell_type": "code",
   "execution_count": 27,
   "metadata": {
    "_uuid": "585a4d0b9b7c0f4e5a6507c049e5d5deb43a112d"
   },
   "outputs": [
    {
     "ename": "NameError",
     "evalue": "name 'columns' is not defined",
     "output_type": "error",
     "traceback": [
      "\u001b[0;31m---------------------------------------------------------------------------\u001b[0m",
      "\u001b[0;31mNameError\u001b[0m                                 Traceback (most recent call last)",
      "\u001b[0;32m<ipython-input-27-1259627ef6ce>\u001b[0m in \u001b[0;36m<module>\u001b[0;34m\u001b[0m\n\u001b[1;32m      2\u001b[0m \u001b[0msns\u001b[0m\u001b[0;34m.\u001b[0m\u001b[0mset\u001b[0m\u001b[0;34m(\u001b[0m\u001b[0;34m)\u001b[0m\u001b[0;34m\u001b[0m\u001b[0m\n\u001b[1;32m      3\u001b[0m \u001b[0;31m#columns = ['category','main_category','goal','pledged','state','backers','country','usd pledged','usd_pledged_real','usd_goal_real','NumOfDays']\u001b[0m\u001b[0;34m\u001b[0m\u001b[0;34m\u001b[0m\u001b[0m\n\u001b[0;32m----> 4\u001b[0;31m \u001b[0msns\u001b[0m\u001b[0;34m.\u001b[0m\u001b[0mpairplot\u001b[0m\u001b[0;34m(\u001b[0m\u001b[0mdata3\u001b[0m\u001b[0;34m[\u001b[0m\u001b[0mcolumns\u001b[0m\u001b[0;34m]\u001b[0m\u001b[0;34m,\u001b[0m\u001b[0msize\u001b[0m \u001b[0;34m=\u001b[0m \u001b[0;36m2\u001b[0m \u001b[0;34m,\u001b[0m\u001b[0mkind\u001b[0m \u001b[0;34m=\u001b[0m\u001b[0;34m'scatter'\u001b[0m\u001b[0;34m,\u001b[0m\u001b[0mdiag_kind\u001b[0m\u001b[0;34m=\u001b[0m\u001b[0;34m'kde'\u001b[0m\u001b[0;34m,\u001b[0m\u001b[0mhue\u001b[0m\u001b[0;34m=\u001b[0m\u001b[0;34m\"state\"\u001b[0m\u001b[0;34m)\u001b[0m\u001b[0;34m\u001b[0m\u001b[0m\n\u001b[0m\u001b[1;32m      5\u001b[0m \u001b[0mplt\u001b[0m\u001b[0;34m.\u001b[0m\u001b[0mshow\u001b[0m\u001b[0;34m(\u001b[0m\u001b[0;34m)\u001b[0m\u001b[0;34m\u001b[0m\u001b[0m\n",
      "\u001b[0;31mNameError\u001b[0m: name 'columns' is not defined"
     ]
    }
   ],
   "source": [
    "import seaborn as sns\n",
    "sns.set()\n",
    "#columns = ['category','main_category','goal','pledged','state','backers','country','usd pledged','usd_pledged_real','usd_goal_real','NumOfDays']\n",
    "sns.pairplot(data3[columns],size = 2 ,kind ='scatter',diag_kind='kde',hue=\"state\")\n",
    "plt.show()"
   ]
  },
  {
   "cell_type": "markdown",
   "metadata": {
    "_uuid": "efa280238b8c62b298f2de917a8b7eaea7a51b66"
   },
   "source": [
    "Transforming parameters including: goal, backers, pledged, usd pledged, usd_pledged_real and NumberOfDats."
   ]
  },
  {
   "cell_type": "code",
   "execution_count": 28,
   "metadata": {
    "_uuid": "16173f19100c9a008340b0befc9a32670adac976"
   },
   "outputs": [
    {
     "data": {
      "text/html": [
       "<div>\n",
       "<style scoped>\n",
       "    .dataframe tbody tr th:only-of-type {\n",
       "        vertical-align: middle;\n",
       "    }\n",
       "\n",
       "    .dataframe tbody tr th {\n",
       "        vertical-align: top;\n",
       "    }\n",
       "\n",
       "    .dataframe thead th {\n",
       "        text-align: right;\n",
       "    }\n",
       "</style>\n",
       "<table border=\"1\" class=\"dataframe\">\n",
       "  <thead>\n",
       "    <tr style=\"text-align: right;\">\n",
       "      <th></th>\n",
       "      <th>category</th>\n",
       "      <th>main_category</th>\n",
       "      <th>goal</th>\n",
       "      <th>pledged</th>\n",
       "      <th>state</th>\n",
       "      <th>backers</th>\n",
       "      <th>country</th>\n",
       "      <th>usd pledged</th>\n",
       "      <th>usd_pledged_real</th>\n",
       "      <th>usd_goal_real</th>\n",
       "      <th>NumOfDays</th>\n",
       "    </tr>\n",
       "  </thead>\n",
       "  <tbody>\n",
       "    <tr>\n",
       "      <td>0</td>\n",
       "      <td>109</td>\n",
       "      <td>13</td>\n",
       "      <td>1000.0</td>\n",
       "      <td>0.0</td>\n",
       "      <td>2</td>\n",
       "      <td>0</td>\n",
       "      <td>10</td>\n",
       "      <td>0.0</td>\n",
       "      <td>0.0</td>\n",
       "      <td>1533.95</td>\n",
       "      <td>58.491343</td>\n",
       "    </tr>\n",
       "    <tr>\n",
       "      <td>1</td>\n",
       "      <td>94</td>\n",
       "      <td>7</td>\n",
       "      <td>30000.0</td>\n",
       "      <td>2421.0</td>\n",
       "      <td>2</td>\n",
       "      <td>15</td>\n",
       "      <td>22</td>\n",
       "      <td>100.0</td>\n",
       "      <td>2421.0</td>\n",
       "      <td>30000.00</td>\n",
       "      <td>59.802813</td>\n",
       "    </tr>\n",
       "    <tr>\n",
       "      <td>2</td>\n",
       "      <td>94</td>\n",
       "      <td>7</td>\n",
       "      <td>45000.0</td>\n",
       "      <td>220.0</td>\n",
       "      <td>2</td>\n",
       "      <td>3</td>\n",
       "      <td>22</td>\n",
       "      <td>220.0</td>\n",
       "      <td>220.0</td>\n",
       "      <td>45000.00</td>\n",
       "      <td>44.985532</td>\n",
       "    </tr>\n",
       "    <tr>\n",
       "      <td>3</td>\n",
       "      <td>91</td>\n",
       "      <td>11</td>\n",
       "      <td>5000.0</td>\n",
       "      <td>1.0</td>\n",
       "      <td>2</td>\n",
       "      <td>1</td>\n",
       "      <td>22</td>\n",
       "      <td>1.0</td>\n",
       "      <td>1.0</td>\n",
       "      <td>5000.00</td>\n",
       "      <td>29.858206</td>\n",
       "    </tr>\n",
       "    <tr>\n",
       "      <td>4</td>\n",
       "      <td>56</td>\n",
       "      <td>7</td>\n",
       "      <td>19500.0</td>\n",
       "      <td>1283.0</td>\n",
       "      <td>1</td>\n",
       "      <td>14</td>\n",
       "      <td>22</td>\n",
       "      <td>1283.0</td>\n",
       "      <td>1283.0</td>\n",
       "      <td>19500.00</td>\n",
       "      <td>55.642326</td>\n",
       "    </tr>\n",
       "  </tbody>\n",
       "</table>\n",
       "</div>"
      ],
      "text/plain": [
       "   category  main_category     goal  pledged  state  backers  country  \\\n",
       "0       109             13   1000.0      0.0      2        0       10   \n",
       "1        94              7  30000.0   2421.0      2       15       22   \n",
       "2        94              7  45000.0    220.0      2        3       22   \n",
       "3        91             11   5000.0      1.0      2        1       22   \n",
       "4        56              7  19500.0   1283.0      1       14       22   \n",
       "\n",
       "   usd pledged  usd_pledged_real  usd_goal_real  NumOfDays  \n",
       "0          0.0               0.0        1533.95  58.491343  \n",
       "1        100.0            2421.0       30000.00  59.802813  \n",
       "2        220.0             220.0       45000.00  44.985532  \n",
       "3          1.0               1.0        5000.00  29.858206  \n",
       "4       1283.0            1283.0       19500.00  55.642326  "
      ]
     },
     "execution_count": 28,
     "metadata": {},
     "output_type": "execute_result"
    }
   ],
   "source": [
    "dataTrans=copy.deepcopy(data3)\n",
    "data3.head()"
   ]
  },
  {
   "cell_type": "code",
   "execution_count": 29,
   "metadata": {
    "_uuid": "a43bb7ab3ecd57b7d1c711e9829440719d9cd68c"
   },
   "outputs": [
    {
     "data": {
      "text/html": [
       "<div>\n",
       "<style scoped>\n",
       "    .dataframe tbody tr th:only-of-type {\n",
       "        vertical-align: middle;\n",
       "    }\n",
       "\n",
       "    .dataframe tbody tr th {\n",
       "        vertical-align: top;\n",
       "    }\n",
       "\n",
       "    .dataframe thead th {\n",
       "        text-align: right;\n",
       "    }\n",
       "</style>\n",
       "<table border=\"1\" class=\"dataframe\">\n",
       "  <thead>\n",
       "    <tr style=\"text-align: right;\">\n",
       "      <th></th>\n",
       "      <th>category</th>\n",
       "      <th>main_category</th>\n",
       "      <th>goal</th>\n",
       "      <th>pledged</th>\n",
       "      <th>state</th>\n",
       "      <th>backers</th>\n",
       "      <th>country</th>\n",
       "      <th>usd pledged</th>\n",
       "      <th>usd_pledged_real</th>\n",
       "      <th>usd_goal_real</th>\n",
       "      <th>NumOfDays</th>\n",
       "    </tr>\n",
       "  </thead>\n",
       "  <tbody>\n",
       "    <tr>\n",
       "      <td>0</td>\n",
       "      <td>109</td>\n",
       "      <td>13</td>\n",
       "      <td>1.412538</td>\n",
       "      <td>0.000000</td>\n",
       "      <td>2</td>\n",
       "      <td>0.000000</td>\n",
       "      <td>10</td>\n",
       "      <td>0.000000</td>\n",
       "      <td>0.000000</td>\n",
       "      <td>1.630750</td>\n",
       "      <td>1.502136</td>\n",
       "    </tr>\n",
       "    <tr>\n",
       "      <td>1</td>\n",
       "      <td>94</td>\n",
       "      <td>7</td>\n",
       "      <td>1.674388</td>\n",
       "      <td>1.681124</td>\n",
       "      <td>2</td>\n",
       "      <td>1.311019</td>\n",
       "      <td>22</td>\n",
       "      <td>1.359356</td>\n",
       "      <td>1.681124</td>\n",
       "      <td>1.988267</td>\n",
       "      <td>1.505470</td>\n",
       "    </tr>\n",
       "    <tr>\n",
       "      <td>2</td>\n",
       "      <td>94</td>\n",
       "      <td>7</td>\n",
       "      <td>1.708680</td>\n",
       "      <td>1.432721</td>\n",
       "      <td>2</td>\n",
       "      <td>1.116123</td>\n",
       "      <td>22</td>\n",
       "      <td>1.432721</td>\n",
       "      <td>1.432721</td>\n",
       "      <td>2.042745</td>\n",
       "      <td>1.463212</td>\n",
       "    </tr>\n",
       "    <tr>\n",
       "      <td>3</td>\n",
       "      <td>91</td>\n",
       "      <td>11</td>\n",
       "      <td>1.530906</td>\n",
       "      <td>1.000000</td>\n",
       "      <td>2</td>\n",
       "      <td>1.000000</td>\n",
       "      <td>22</td>\n",
       "      <td>1.000000</td>\n",
       "      <td>1.000000</td>\n",
       "      <td>1.764404</td>\n",
       "      <td>1.404450</td>\n",
       "    </tr>\n",
       "    <tr>\n",
       "      <td>4</td>\n",
       "      <td>56</td>\n",
       "      <td>7</td>\n",
       "      <td>1.638709</td>\n",
       "      <td>1.611444</td>\n",
       "      <td>1</td>\n",
       "      <td>1.302005</td>\n",
       "      <td>22</td>\n",
       "      <td>1.611444</td>\n",
       "      <td>1.611444</td>\n",
       "      <td>1.931979</td>\n",
       "      <td>1.494654</td>\n",
       "    </tr>\n",
       "  </tbody>\n",
       "</table>\n",
       "</div>"
      ],
      "text/plain": [
       "   category  main_category      goal   pledged  state   backers  country  \\\n",
       "0       109             13  1.412538  0.000000      2  0.000000       10   \n",
       "1        94              7  1.674388  1.681124      2  1.311019       22   \n",
       "2        94              7  1.708680  1.432721      2  1.116123       22   \n",
       "3        91             11  1.530906  1.000000      2  1.000000       22   \n",
       "4        56              7  1.638709  1.611444      1  1.302005       22   \n",
       "\n",
       "   usd pledged  usd_pledged_real  usd_goal_real  NumOfDays  \n",
       "0     0.000000          0.000000       1.630750   1.502136  \n",
       "1     1.359356          1.681124       1.988267   1.505470  \n",
       "2     1.432721          1.432721       2.042745   1.463212  \n",
       "3     1.000000          1.000000       1.764404   1.404450  \n",
       "4     1.611444          1.611444       1.931979   1.494654  "
      ]
     },
     "execution_count": 29,
     "metadata": {},
     "output_type": "execute_result"
    }
   ],
   "source": [
    "dataTrans['goal']=dataTrans['goal']**(1/20)\n",
    "dataTrans['backers']=dataTrans['backers']**(1/10)\n",
    "dataTrans['pledged']=dataTrans['pledged']**(1/15)\n",
    "dataTrans['usd pledged']=dataTrans['usd pledged']**(1/15)\n",
    "dataTrans['usd_pledged_real']=dataTrans['usd_pledged_real']**(1/15)\n",
    "dataTrans['NumOfDays']=dataTrans['NumOfDays']**(1/10)\n",
    "dataTrans['usd_goal_real']=dataTrans['usd_goal_real']**(1/15)\n",
    "dataTrans.head()"
   ]
  },
  {
   "cell_type": "markdown",
   "metadata": {
    "_uuid": "981eb145ee7ba6e2d3afe195d7cc253e3d7b4b4d"
   },
   "source": [
    "# Filtering column \"state\" with zero and 1 values\n",
    "The object of the moel is to determine Whether  a project is succsful or not. Therefore the \"4\" in the column \"state\" is replace with 1 and the rest of values are assigned to zero. "
   ]
  },
  {
   "cell_type": "code",
   "execution_count": 30,
   "metadata": {
    "_uuid": "0438bee3db61f6a1baa38ee7ee92eb86d6837067"
   },
   "outputs": [
    {
     "name": "stdout",
     "output_type": "stream",
     "text": [
      "{'state': {'canceled': 1, 'failed': 2, 'live': 3, 'successful': 4, 'suspended': 5}}\n"
     ]
    }
   ],
   "source": [
    "print(replace_map_comp3)"
   ]
  },
  {
   "cell_type": "code",
   "execution_count": 31,
   "metadata": {
    "_uuid": "4725e805db79301ce1ccc489ba95c9395188baab"
   },
   "outputs": [
    {
     "data": {
      "text/html": [
       "<div>\n",
       "<style scoped>\n",
       "    .dataframe tbody tr th:only-of-type {\n",
       "        vertical-align: middle;\n",
       "    }\n",
       "\n",
       "    .dataframe tbody tr th {\n",
       "        vertical-align: top;\n",
       "    }\n",
       "\n",
       "    .dataframe thead th {\n",
       "        text-align: right;\n",
       "    }\n",
       "</style>\n",
       "<table border=\"1\" class=\"dataframe\">\n",
       "  <thead>\n",
       "    <tr style=\"text-align: right;\">\n",
       "      <th></th>\n",
       "      <th>category</th>\n",
       "      <th>main_category</th>\n",
       "      <th>goal</th>\n",
       "      <th>pledged</th>\n",
       "      <th>state</th>\n",
       "      <th>backers</th>\n",
       "      <th>country</th>\n",
       "      <th>usd pledged</th>\n",
       "      <th>usd_pledged_real</th>\n",
       "      <th>usd_goal_real</th>\n",
       "      <th>NumOfDays</th>\n",
       "    </tr>\n",
       "  </thead>\n",
       "  <tbody>\n",
       "    <tr>\n",
       "      <td>0</td>\n",
       "      <td>109</td>\n",
       "      <td>13</td>\n",
       "      <td>1.412538</td>\n",
       "      <td>0.000000</td>\n",
       "      <td>0</td>\n",
       "      <td>0.000000</td>\n",
       "      <td>10</td>\n",
       "      <td>0.000000</td>\n",
       "      <td>0.000000</td>\n",
       "      <td>1.630750</td>\n",
       "      <td>1.502136</td>\n",
       "    </tr>\n",
       "    <tr>\n",
       "      <td>1</td>\n",
       "      <td>94</td>\n",
       "      <td>7</td>\n",
       "      <td>1.674388</td>\n",
       "      <td>1.681124</td>\n",
       "      <td>0</td>\n",
       "      <td>1.311019</td>\n",
       "      <td>22</td>\n",
       "      <td>1.359356</td>\n",
       "      <td>1.681124</td>\n",
       "      <td>1.988267</td>\n",
       "      <td>1.505470</td>\n",
       "    </tr>\n",
       "    <tr>\n",
       "      <td>2</td>\n",
       "      <td>94</td>\n",
       "      <td>7</td>\n",
       "      <td>1.708680</td>\n",
       "      <td>1.432721</td>\n",
       "      <td>0</td>\n",
       "      <td>1.116123</td>\n",
       "      <td>22</td>\n",
       "      <td>1.432721</td>\n",
       "      <td>1.432721</td>\n",
       "      <td>2.042745</td>\n",
       "      <td>1.463212</td>\n",
       "    </tr>\n",
       "    <tr>\n",
       "      <td>3</td>\n",
       "      <td>91</td>\n",
       "      <td>11</td>\n",
       "      <td>1.530906</td>\n",
       "      <td>1.000000</td>\n",
       "      <td>0</td>\n",
       "      <td>1.000000</td>\n",
       "      <td>22</td>\n",
       "      <td>1.000000</td>\n",
       "      <td>1.000000</td>\n",
       "      <td>1.764404</td>\n",
       "      <td>1.404450</td>\n",
       "    </tr>\n",
       "    <tr>\n",
       "      <td>4</td>\n",
       "      <td>56</td>\n",
       "      <td>7</td>\n",
       "      <td>1.638709</td>\n",
       "      <td>1.611444</td>\n",
       "      <td>0</td>\n",
       "      <td>1.302005</td>\n",
       "      <td>22</td>\n",
       "      <td>1.611444</td>\n",
       "      <td>1.611444</td>\n",
       "      <td>1.931979</td>\n",
       "      <td>1.494654</td>\n",
       "    </tr>\n",
       "  </tbody>\n",
       "</table>\n",
       "</div>"
      ],
      "text/plain": [
       "   category  main_category      goal   pledged  state   backers  country  \\\n",
       "0       109             13  1.412538  0.000000      0  0.000000       10   \n",
       "1        94              7  1.674388  1.681124      0  1.311019       22   \n",
       "2        94              7  1.708680  1.432721      0  1.116123       22   \n",
       "3        91             11  1.530906  1.000000      0  1.000000       22   \n",
       "4        56              7  1.638709  1.611444      0  1.302005       22   \n",
       "\n",
       "   usd pledged  usd_pledged_real  usd_goal_real  NumOfDays  \n",
       "0     0.000000          0.000000       1.630750   1.502136  \n",
       "1     1.359356          1.681124       1.988267   1.505470  \n",
       "2     1.432721          1.432721       2.042745   1.463212  \n",
       "3     1.000000          1.000000       1.764404   1.404450  \n",
       "4     1.611444          1.611444       1.931979   1.494654  "
      ]
     },
     "execution_count": 31,
     "metadata": {},
     "output_type": "execute_result"
    }
   ],
   "source": [
    "dataTrans['state'] = np.where(dataTrans['state'] == 4, 1, 0)\n",
    "dataTrans.head()"
   ]
  },
  {
   "cell_type": "code",
   "execution_count": 32,
   "metadata": {
    "_uuid": "7850a0e5f76a3d940df56f295385f52cb47c1b5f"
   },
   "outputs": [
    {
     "data": {
      "text/plain": [
       "'\\nplt.figure(figsize=(18,6))\\nplt.subplot(2, 1, 1)\\npyplot.hist(dataTrans[dataTrans[\\'state\\']==0][\\'backers\\'], alpha=0.5, normed=True, label=\\'unsuccessful\\')\\npyplot.hist(dataTrans[dataTrans[\\'state\\']==1][\\'backers\\'], alpha=0.5, normed=True, label=\\'successful\\')\\npyplot.legend(loc=\\'upper right\\')\\npyplot.title(\"backers\")\\npyplot.show()\\n\\nplt.figure(figsize=(18,6))\\nplt.subplot(2, 1, 2)\\npyplot.hist(dataTrans[dataTrans[\\'state\\']==0][\\'goal\\'], alpha=0.5, normed=True, label=\\'unsuccessful\\')\\npyplot.hist(dataTrans[dataTrans[\\'state\\']==1][\\'goal\\'], alpha=0.5, normed=True, label=\\'successful\\')\\npyplot.legend(loc=\\'upper right\\')\\npyplot.title(\"goal\")\\npyplot.show()\\n'"
      ]
     },
     "execution_count": 32,
     "metadata": {},
     "output_type": "execute_result"
    }
   ],
   "source": [
    "#some visualizations\n",
    "\"\"\"\n",
    "plt.figure(figsize=(18,6))\n",
    "plt.subplot(2, 1, 1)\n",
    "pyplot.hist(dataTrans[dataTrans['state']==0]['backers'], alpha=0.5, normed=True, label='unsuccessful')\n",
    "pyplot.hist(dataTrans[dataTrans['state']==1]['backers'], alpha=0.5, normed=True, label='successful')\n",
    "pyplot.legend(loc='upper right')\n",
    "pyplot.title(\"backers\")\n",
    "pyplot.show()\n",
    "\n",
    "plt.figure(figsize=(18,6))\n",
    "plt.subplot(2, 1, 2)\n",
    "pyplot.hist(dataTrans[dataTrans['state']==0]['goal'], alpha=0.5, normed=True, label='unsuccessful')\n",
    "pyplot.hist(dataTrans[dataTrans['state']==1]['goal'], alpha=0.5, normed=True, label='successful')\n",
    "pyplot.legend(loc='upper right')\n",
    "pyplot.title(\"goal\")\n",
    "pyplot.show()\n",
    "\"\"\""
   ]
  },
  {
   "cell_type": "code",
   "execution_count": 33,
   "metadata": {
    "_uuid": "7c05d9b97bf52197383ca6d14bdba8ae833b39ec"
   },
   "outputs": [],
   "source": [
    "# Some visualizations\n",
    "#plt.figure(figsize = (12, 6))\n",
    "#sns.countplot(x = 'main_category', data = dataTrans)\n",
    "#xt = plt.xticks(rotation=45)\n",
    "import seaborn as sns\n",
    "sns.set()\n",
    "columns = ['category','main_category','goal','pledged','state','backers','country','usd pledged','usd_pledged_real','usd_goal_real','NumOfDays']\n",
    "#sns.pairplot(dataTrans[columns],size = 2 ,kind ='scatter',diag_kind='kde',hue=\"state\")\n",
    "plt.show()"
   ]
  },
  {
   "cell_type": "markdown",
   "metadata": {
    "_uuid": "05175cfe3475c048e0c74d67078b9ff1fb3a8309"
   },
   "source": [
    "It is seen that paramters like usd_pledged_real, usd_pledged, backers, pledged are good for estimation projects state."
   ]
  },
  {
   "cell_type": "markdown",
   "metadata": {
    "_uuid": "61332b16fe41a861533bc83a3b5fec10ca4768f1"
   },
   "source": [
    "usd_pledged_real\n",
    "backers\n",
    "usd_goal_real\n",
    " usd pledged\n",
    "  pledged\n",
    "  goal"
   ]
  },
  {
   "cell_type": "markdown",
   "metadata": {
    "_uuid": "ed351801f75d30f6736a8f77a725fd4b66c21950"
   },
   "source": [
    "# Split data to train and test"
   ]
  },
  {
   "cell_type": "code",
   "execution_count": 34,
   "metadata": {
    "_uuid": "64b96991e859c157ac411172fd7a7186af3ddb47"
   },
   "outputs": [
    {
     "data": {
      "text/html": [
       "<div>\n",
       "<style scoped>\n",
       "    .dataframe tbody tr th:only-of-type {\n",
       "        vertical-align: middle;\n",
       "    }\n",
       "\n",
       "    .dataframe tbody tr th {\n",
       "        vertical-align: top;\n",
       "    }\n",
       "\n",
       "    .dataframe thead th {\n",
       "        text-align: right;\n",
       "    }\n",
       "</style>\n",
       "<table border=\"1\" class=\"dataframe\">\n",
       "  <thead>\n",
       "    <tr style=\"text-align: right;\">\n",
       "      <th></th>\n",
       "      <th>category</th>\n",
       "      <th>main_category</th>\n",
       "      <th>goal</th>\n",
       "      <th>pledged</th>\n",
       "      <th>state</th>\n",
       "      <th>backers</th>\n",
       "      <th>country</th>\n",
       "      <th>usd pledged</th>\n",
       "      <th>usd_pledged_real</th>\n",
       "      <th>usd_goal_real</th>\n",
       "      <th>NumOfDays</th>\n",
       "    </tr>\n",
       "  </thead>\n",
       "  <tbody>\n",
       "    <tr>\n",
       "      <td>0</td>\n",
       "      <td>109</td>\n",
       "      <td>13</td>\n",
       "      <td>1.412538</td>\n",
       "      <td>0.000000</td>\n",
       "      <td>0</td>\n",
       "      <td>0.000000</td>\n",
       "      <td>10</td>\n",
       "      <td>0.000000</td>\n",
       "      <td>0.000000</td>\n",
       "      <td>1.630750</td>\n",
       "      <td>1.502136</td>\n",
       "    </tr>\n",
       "    <tr>\n",
       "      <td>1</td>\n",
       "      <td>94</td>\n",
       "      <td>7</td>\n",
       "      <td>1.674388</td>\n",
       "      <td>1.681124</td>\n",
       "      <td>0</td>\n",
       "      <td>1.311019</td>\n",
       "      <td>22</td>\n",
       "      <td>1.359356</td>\n",
       "      <td>1.681124</td>\n",
       "      <td>1.988267</td>\n",
       "      <td>1.505470</td>\n",
       "    </tr>\n",
       "  </tbody>\n",
       "</table>\n",
       "</div>"
      ],
      "text/plain": [
       "   category  main_category      goal   pledged  state   backers  country  \\\n",
       "0       109             13  1.412538  0.000000      0  0.000000       10   \n",
       "1        94              7  1.674388  1.681124      0  1.311019       22   \n",
       "\n",
       "   usd pledged  usd_pledged_real  usd_goal_real  NumOfDays  \n",
       "0     0.000000          0.000000       1.630750   1.502136  \n",
       "1     1.359356          1.681124       1.988267   1.505470  "
      ]
     },
     "execution_count": 34,
     "metadata": {},
     "output_type": "execute_result"
    }
   ],
   "source": [
    "dataTrans.head(2)"
   ]
  },
  {
   "cell_type": "markdown",
   "metadata": {
    "_uuid": "121e82e95afda1fee0af2e7d6b20b39e59a30908"
   },
   "source": [
    "# data4 "
   ]
  },
  {
   "cell_type": "code",
   "execution_count": 35,
   "metadata": {
    "_uuid": "c689039aea9bbf9e2bd69ec4f6da9a7d79e3bd34"
   },
   "outputs": [
    {
     "data": {
      "text/plain": [
       "0    0\n",
       "1    0\n",
       "2    0\n",
       "3    0\n",
       "4    0\n",
       "5    1\n",
       "6    1\n",
       "7    0\n",
       "8    0\n",
       "9    0\n",
       "Name: state, dtype: int64"
      ]
     },
     "execution_count": 35,
     "metadata": {},
     "output_type": "execute_result"
    }
   ],
   "source": [
    "data4=copy.deepcopy(dataTrans)\n",
    "data4.head(2)\n",
    "#data4['NumOfDays']=NumOfDays\n",
    "#data4.head()\n",
    "state=copy.deepcopy(data4['state'])\n",
    "state.head(10)"
   ]
  },
  {
   "cell_type": "code",
   "execution_count": 36,
   "metadata": {
    "_uuid": "f132e2b0ce64ec659515487787af09165811a78a"
   },
   "outputs": [
    {
     "data": {
      "text/html": [
       "<div>\n",
       "<style scoped>\n",
       "    .dataframe tbody tr th:only-of-type {\n",
       "        vertical-align: middle;\n",
       "    }\n",
       "\n",
       "    .dataframe tbody tr th {\n",
       "        vertical-align: top;\n",
       "    }\n",
       "\n",
       "    .dataframe thead th {\n",
       "        text-align: right;\n",
       "    }\n",
       "</style>\n",
       "<table border=\"1\" class=\"dataframe\">\n",
       "  <thead>\n",
       "    <tr style=\"text-align: right;\">\n",
       "      <th></th>\n",
       "      <th>category</th>\n",
       "      <th>main_category</th>\n",
       "      <th>goal</th>\n",
       "      <th>pledged</th>\n",
       "      <th>backers</th>\n",
       "      <th>country</th>\n",
       "      <th>usd pledged</th>\n",
       "      <th>usd_pledged_real</th>\n",
       "      <th>usd_goal_real</th>\n",
       "      <th>NumOfDays</th>\n",
       "    </tr>\n",
       "  </thead>\n",
       "  <tbody>\n",
       "    <tr>\n",
       "      <td>0</td>\n",
       "      <td>109</td>\n",
       "      <td>13</td>\n",
       "      <td>1.412538</td>\n",
       "      <td>0.000000</td>\n",
       "      <td>0.000000</td>\n",
       "      <td>10</td>\n",
       "      <td>0.000000</td>\n",
       "      <td>0.000000</td>\n",
       "      <td>1.630750</td>\n",
       "      <td>1.502136</td>\n",
       "    </tr>\n",
       "    <tr>\n",
       "      <td>1</td>\n",
       "      <td>94</td>\n",
       "      <td>7</td>\n",
       "      <td>1.674388</td>\n",
       "      <td>1.681124</td>\n",
       "      <td>1.311019</td>\n",
       "      <td>22</td>\n",
       "      <td>1.359356</td>\n",
       "      <td>1.681124</td>\n",
       "      <td>1.988267</td>\n",
       "      <td>1.505470</td>\n",
       "    </tr>\n",
       "  </tbody>\n",
       "</table>\n",
       "</div>"
      ],
      "text/plain": [
       "   category  main_category      goal   pledged   backers  country  \\\n",
       "0       109             13  1.412538  0.000000  0.000000       10   \n",
       "1        94              7  1.674388  1.681124  1.311019       22   \n",
       "\n",
       "   usd pledged  usd_pledged_real  usd_goal_real  NumOfDays  \n",
       "0     0.000000          0.000000       1.630750   1.502136  \n",
       "1     1.359356          1.681124       1.988267   1.505470  "
      ]
     },
     "execution_count": 36,
     "metadata": {},
     "output_type": "execute_result"
    }
   ],
   "source": [
    "data4.drop(labels = [\"state\"], axis = 1, inplace = True)\n",
    "data4.head(2)"
   ]
  },
  {
   "cell_type": "code",
   "execution_count": 37,
   "metadata": {
    "_uuid": "9d188344e246f9c2422721783a73ee3adc964d3e"
   },
   "outputs": [],
   "source": [
    "from sklearn import datasets, linear_model\n",
    "from sklearn.model_selection import train_test_split\n",
    "from matplotlib import pyplot as plt"
   ]
  },
  {
   "cell_type": "code",
   "execution_count": 38,
   "metadata": {
    "_uuid": "b927713b37e4c9ce69b5ca1619b7a85d93aa33c1"
   },
   "outputs": [
    {
     "name": "stdout",
     "output_type": "stream",
     "text": [
      "(299891, 10) (299891,)\n",
      "(74973, 10) (74973,)\n"
     ]
    }
   ],
   "source": [
    "# create training and testing vars\n",
    "X_train, X_test, y_train, y_test = train_test_split(data4, state, test_size=0.2)\n",
    "print (X_train.shape, y_train.shape)\n",
    "print (X_test.shape, y_test.shape)"
   ]
  },
  {
   "cell_type": "markdown",
   "metadata": {
    "_uuid": "6fd13dabb2972c2e8a59feb1cc8a65d881063f9b"
   },
   "source": [
    "# Model Fitting and Predicting\n",
    "Importing different classifiers from sklearn. \n",
    "Lets try different types of models (ML) to see which one gives the best accuracy for its predictions.\n"
   ]
  },
  {
   "cell_type": "code",
   "execution_count": 39,
   "metadata": {
    "_uuid": "10ef31edb753bddec2cfde102392314a9a21bef8"
   },
   "outputs": [],
   "source": [
    "from sklearn.svm import SVC, LinearSVC\n",
    "from sklearn.ensemble import RandomForestClassifier\n",
    "from sklearn.linear_model import LogisticRegression\n",
    "from sklearn.neighbors import KNeighborsClassifier\n",
    "from sklearn.naive_bayes import GaussianNB\n",
    "from sklearn.tree import DecisionTreeClassifier"
   ]
  },
  {
   "cell_type": "markdown",
   "metadata": {
    "_uuid": "1a4c3a64a2122347c6aba45e9e25b9a9fe5458b2"
   },
   "source": [
    "# Validation Data Set"
   ]
  },
  {
   "cell_type": "code",
   "execution_count": 40,
   "metadata": {
    "_uuid": "b559062bddee719b3f66c1fe0f76543d10d2528a"
   },
   "outputs": [],
   "source": [
    "from sklearn.model_selection import train_test_split #to create validation data set\n",
    "X_training, X_valid, y_training, y_valid = train_test_split(X_train, y_train, test_size=0.2, random_state=0) #X_valid and y_valid are the validation sets"
   ]
  },
  {
   "cell_type": "markdown",
   "metadata": {
    "_uuid": "230c50b7a5e3d186fe89c3ab910609c472be677e"
   },
   "source": [
    "Evaluate the model performanceusing make_scorere and accuracy_score function from sklearn metrics."
   ]
  },
  {
   "cell_type": "code",
   "execution_count": 41,
   "metadata": {
    "_uuid": "cae6b4d31a8612fde859e552cbeaa4a92b475345"
   },
   "outputs": [],
   "source": [
    "from sklearn.metrics import make_scorer, accuracy_score "
   ]
  },
  {
   "cell_type": "markdown",
   "metadata": {
    "_uuid": "b51f67a770f8d95eae619f0158aaa5935b110ecb"
   },
   "source": [
    "# KNeighbors Model"
   ]
  },
  {
   "cell_type": "code",
   "execution_count": 42,
   "metadata": {
    "_uuid": "674f64b61f4a3f1373e1fc7b0784734b29bb7ee2"
   },
   "outputs": [
    {
     "name": "stdout",
     "output_type": "stream",
     "text": [
      "0.964470898147685\n"
     ]
    }
   ],
   "source": [
    "knn_clf = KNeighborsClassifier()\n",
    "knn_clf.fit(X_training, y_training)\n",
    "pred_knn = knn_clf.predict(X_valid)\n",
    "acc_knn = accuracy_score(y_valid, pred_knn)\n",
    "print(acc_knn)"
   ]
  },
  {
   "cell_type": "markdown",
   "metadata": {
    "_uuid": "4bdd731ebbf11e1da87606687f8c9713f18095e6"
   },
   "source": [
    "You should always apply some evaluations on the model depend on what you looking for. Depend on your project you may try to reduce FP or FN. Then you may try to tune your ML to achieve your goal (tuning effective paramters). To zoom on Fraudulent transaction recognization, optimize the sensitivity. To get email spam optimze your model to achive the high precision or specificity. and so on..."
   ]
  },
  {
   "cell_type": "code",
   "execution_count": 43,
   "metadata": {
    "_uuid": "38b85715c7249656fa84c62edbe5dae9118f55d6"
   },
   "outputs": [],
   "source": [
    "from sklearn import metrics"
   ]
  },
  {
   "cell_type": "code",
   "execution_count": 44,
   "metadata": {
    "_uuid": "990f0b14bb21acd04503172367e7044723cd724a"
   },
   "outputs": [
    {
     "name": "stdout",
     "output_type": "stream",
     "text": [
      "[[37493  1239]\n",
      " [  892 20355]]\n"
     ]
    }
   ],
   "source": [
    "# save confusion matrix and slice into four pieces\n",
    "confusion = metrics.confusion_matrix(y_valid, pred_knn)\n",
    "print(confusion)\n",
    "#[row, column]\n",
    "TP = confusion[1, 1]\n",
    "TN = confusion[0, 0]\n",
    "FP = confusion[0, 1]\n",
    "FN = confusion[1, 0]"
   ]
  },
  {
   "cell_type": "markdown",
   "metadata": {
    "_uuid": "930cc273b045517a4b9935e9f8e1fad16163fdda"
   },
   "source": [
    "### Accuracy "
   ]
  },
  {
   "cell_type": "code",
   "execution_count": 45,
   "metadata": {
    "_uuid": "ede7bad9abb873329304d8879f30a1854ce39c97"
   },
   "outputs": [
    {
     "name": "stdout",
     "output_type": "stream",
     "text": [
      "0.964470898147685\n",
      "0.964470898147685\n"
     ]
    }
   ],
   "source": [
    "#how often is the classifier correct?\n",
    "# use float to perform true division, not integer division\n",
    "print((TP + TN) / float(TP + TN + FP + FN))\n",
    "print(metrics.accuracy_score(y_valid, pred_knn))"
   ]
  },
  {
   "cell_type": "markdown",
   "metadata": {
    "_uuid": "2a2e7fd60ca904ee8b767725d31e1440ce4921f5"
   },
   "source": [
    "### Precision"
   ]
  },
  {
   "cell_type": "code",
   "execution_count": 46,
   "metadata": {
    "_uuid": "868ec3d227d1047b6e3a70ac8c4ff83f801b620b"
   },
   "outputs": [
    {
     "name": "stdout",
     "output_type": "stream",
     "text": [
      "0.9426229508196722\n",
      "0.964470898147685\n"
     ]
    }
   ],
   "source": [
    "# Precision: When a positive value is predicted, how often is the prediction correct? Precision = TP/TP+FP\n",
    "precision = TP / float(TP + FP)\n",
    "print(precision)\n",
    "print((TP + TN) / float(TP + TN + FP + FN))"
   ]
  },
  {
   "cell_type": "markdown",
   "metadata": {
    "_uuid": "8cb867b158cdba997fa8d7f203c308d53566e772"
   },
   "source": [
    "### Sensitivity or Recall"
   ]
  },
  {
   "cell_type": "code",
   "execution_count": 47,
   "metadata": {
    "_uuid": "1686d56d48fc9f7b9da1098b3c5477a675e87b97"
   },
   "outputs": [
    {
     "name": "stdout",
     "output_type": "stream",
     "text": [
      "0.9580176024850567\n",
      "0.964470898147685\n"
     ]
    }
   ],
   "source": [
    "# Sensitivity: When the actual value is positive, how often is the prediction correct?\n",
    "sensitivity = TP / float(FN + TP)\n",
    "print(sensitivity)\n",
    "print((TP + TN) / float(TP + TN + FP + FN))"
   ]
  },
  {
   "cell_type": "markdown",
   "metadata": {
    "_uuid": "232f0e709de5c65b77a89f8775501d23be522e59"
   },
   "source": [
    "### F1 score\n",
    "\n",
    "This score takes both false positives and false negatives into account.\n",
    "Intuitively it is not as easy to understand as accuracy, but F1 is usually more useful than accuracy, especially if you have an uneven class distribution. Accuracy works best if false positives and false negatives have similar cost. If the cost of false positives and false negatives are very different, it’s better to look at both Precision and Recall (see reff).\n"
   ]
  },
  {
   "cell_type": "code",
   "execution_count": 48,
   "metadata": {
    "_uuid": "3b69c1e55f17b533f043f207dc726bfe5ca0a1a2"
   },
   "outputs": [
    {
     "name": "stdout",
     "output_type": "stream",
     "text": [
      "0.9502579304871502\n",
      "0.964470898147685\n"
     ]
    }
   ],
   "source": [
    "# F1 Score = 2*(sensitivity * Precision) / (sensitivity + Precision)\n",
    "F1_Score = 2*(sensitivity * precision) / (sensitivity + precision)\n",
    "print(F1_Score)\n",
    "print((TP + TN) / float(TP + TN + FP + FN))"
   ]
  },
  {
   "cell_type": "code",
   "execution_count": 49,
   "metadata": {
    "_uuid": "2c5d9adcf86c2b7b1980bb7f545ae5ca03f9da3c"
   },
   "outputs": [
    {
     "name": "stdout",
     "output_type": "stream",
     "text": [
      "0.9680109470205515\n",
      "0.964470898147685\n"
     ]
    }
   ],
   "source": [
    "# Specificity: When the actual value is negative, how often is the prediction correct?\n",
    "specificity = TN / (TN + FP)\n",
    "print(specificity)\n",
    "print((TP + TN) / float(TP + TN + FP + FN))"
   ]
  },
  {
   "cell_type": "code",
   "execution_count": 50,
   "metadata": {
    "_uuid": "5135652c17224f8360e3c820657efef0b2515842"
   },
   "outputs": [
    {
     "name": "stdout",
     "output_type": "stream",
     "text": [
      "0.03198905297944852\n",
      "0.03198905297944854\n"
     ]
    }
   ],
   "source": [
    "# False Positive Rate: When the actual value is negative, how often is the prediction incorrect?\n",
    "false_positive_rate = FP / float(TN + FP)\n",
    "print(false_positive_rate)\n",
    "# and false negative rate\n",
    "print(1 - specificity)"
   ]
  },
  {
   "cell_type": "markdown",
   "metadata": {
    "_uuid": "1ec6290d730f049604ed440264b55a58cba999de"
   },
   "source": [
    "# RandomForest Model"
   ]
  },
  {
   "cell_type": "code",
   "execution_count": 51,
   "metadata": {
    "_uuid": "9b22e166614b76accd3ebf2140c800d206b4d412"
   },
   "outputs": [
    {
     "name": "stdout",
     "output_type": "stream",
     "text": [
      "0.9949815768852431\n"
     ]
    }
   ],
   "source": [
    "rf_clf = RandomForestClassifier(n_estimators=50, n_jobs=-1) # increase the number of trees to get better results\n",
    "rf_model=rf_clf.fit(X_training, y_training)\n",
    "pred_rf = rf_clf.predict(X_valid)\n",
    "acc_rf = accuracy_score(y_valid, pred_rf)\n",
    "print(acc_rf)"
   ]
  },
  {
   "cell_type": "code",
   "execution_count": 52,
   "metadata": {
    "_uuid": "583cb6cb860142312cf9dec781337218b9207b32"
   },
   "outputs": [],
   "source": [
    "#print(dir(RandomForestClassifier))\n",
    "#print(RandomForestClassifier())"
   ]
  },
  {
   "cell_type": "code",
   "execution_count": 53,
   "metadata": {
    "_uuid": "2ca03a171e88465b434bf39297dc7344ccf8b73a"
   },
   "outputs": [
    {
     "name": "stdout",
     "output_type": "stream",
     "text": [
      "[[37493  1239]\n",
      " [  892 20355]]\n"
     ]
    }
   ],
   "source": [
    "# metrics confusion\n",
    "from sklearn import metrics\n",
    "print(metrics.confusion_matrix(y_valid, pred_knn))"
   ]
  },
  {
   "cell_type": "markdown",
   "metadata": {
    "_uuid": "3bfba0f814b8be80e5d212fdd46388214623a7e8"
   },
   "source": [
    "Check out what feathers are important in the model."
   ]
  },
  {
   "cell_type": "code",
   "execution_count": 54,
   "metadata": {
    "_uuid": "bc5791a29ce4f344467c113b46c8f9e93f93ac93"
   },
   "outputs": [
    {
     "data": {
      "text/plain": [
       "[(0.224763945843781, 'usd_pledged_real'),\n",
       " (0.19794061619343456, 'pledged'),\n",
       " (0.18726256296499236, 'backers'),\n",
       " (0.15229997106536933, 'usd_goal_real'),\n",
       " (0.12598389292043372, 'goal'),\n",
       " (0.09809849601326714, 'usd pledged'),\n",
       " (0.006936273415971694, 'NumOfDays'),\n",
       " (0.0027164363579281862, 'category'),\n",
       " (0.0023165579025506994, 'main_category'),\n",
       " (0.001681247322271493, 'country')]"
      ]
     },
     "execution_count": 54,
     "metadata": {},
     "output_type": "execute_result"
    }
   ],
   "source": [
    "sorted(zip(rf_model.feature_importances_, X_train.columns), reverse=True)[0:10]"
   ]
  },
  {
   "cell_type": "markdown",
   "metadata": {
    "_uuid": "69b34b1377a506387a4963d2a6a37dbf52e1ed84"
   },
   "source": [
    "# LogisiticRegression Model"
   ]
  },
  {
   "cell_type": "code",
   "execution_count": 55,
   "metadata": {
    "_uuid": "4bb08dc0abd1b84f7df3764881b4327dd8f085b1"
   },
   "outputs": [
    {
     "name": "stdout",
     "output_type": "stream",
     "text": [
      "['C', '__class__', '__delattr__', '__dict__', '__dir__', '__doc__', '__eq__', '__format__', '__ge__', '__getattribute__', '__getstate__', '__gt__', '__hash__', '__init__', '__init_subclass__', '__le__', '__lt__', '__module__', '__ne__', '__new__', '__reduce__', '__reduce_ex__', '__repr__', '__setattr__', '__setstate__', '__sizeof__', '__str__', '__subclasshook__', '__weakref__', '_estimator_type', '_get_param_names', '_get_tags', '_predict_proba_lr', 'class_weight', 'decision_function', 'densify', 'dual', 'fit', 'fit_intercept', 'get_params', 'intercept_scaling', 'l1_ratio', 'max_iter', 'multi_class', 'n_jobs', 'penalty', 'predict', 'predict_log_proba', 'predict_proba', 'random_state', 'score', 'set_params', 'solver', 'sparsify', 'tol', 'verbose', 'warm_start']\n"
     ]
    }
   ],
   "source": [
    "print(dir(LogisticRegression())) #check out what feather is provided "
   ]
  },
  {
   "cell_type": "code",
   "execution_count": 56,
   "metadata": {
    "_uuid": "cb0516478d429d7fbdd0e120509e288e1f71dc4c"
   },
   "outputs": [
    {
     "name": "stderr",
     "output_type": "stream",
     "text": [
      "/opt/conda/lib/python3.6/site-packages/sklearn/linear_model/logistic.py:432: FutureWarning: Default solver will be changed to 'lbfgs' in 0.22. Specify a solver to silence this warning.\n",
      "  FutureWarning)\n"
     ]
    },
    {
     "name": "stdout",
     "output_type": "stream",
     "text": [
      "0.9882959035662482\n"
     ]
    }
   ],
   "source": [
    "logreg_clf = LogisticRegression()\n",
    "logreg_clf.fit(X_training, y_training)\n",
    "pred_logreg = logreg_clf.predict(X_valid)\n",
    "acc_logreg = accuracy_score(y_valid, pred_logreg)\n",
    "print(acc_logreg)"
   ]
  },
  {
   "cell_type": "code",
   "execution_count": 57,
   "metadata": {
    "_uuid": "34b5273961d88e77c21451091000bbee6af93f89"
   },
   "outputs": [
    {
     "name": "stdout",
     "output_type": "stream",
     "text": [
      "[[38030   702]\n",
      " [    0 21247]]\n"
     ]
    }
   ],
   "source": [
    "# metrics confusion\n",
    "from sklearn import metrics\n",
    "print(metrics.confusion_matrix(y_valid, pred_logreg))"
   ]
  },
  {
   "cell_type": "markdown",
   "metadata": {
    "_uuid": "1767f16b7709f4642fabce74547b0cdb74b12503"
   },
   "source": [
    "# DecisionTree Model"
   ]
  },
  {
   "cell_type": "code",
   "execution_count": 58,
   "metadata": {
    "_uuid": "ecdf0ecc49f70a58334e1b21b0661efe60e04f1a"
   },
   "outputs": [
    {
     "name": "stdout",
     "output_type": "stream",
     "text": [
      "['__abstractmethods__', '__class__', '__delattr__', '__dict__', '__dir__', '__doc__', '__eq__', '__format__', '__ge__', '__getattribute__', '__getstate__', '__gt__', '__hash__', '__init__', '__init_subclass__', '__le__', '__lt__', '__module__', '__ne__', '__new__', '__reduce__', '__reduce_ex__', '__repr__', '__setattr__', '__setstate__', '__sizeof__', '__str__', '__subclasshook__', '__weakref__', '_abc_cache', '_abc_negative_cache', '_abc_negative_cache_version', '_abc_registry', '_estimator_type', '_get_param_names', '_get_tags', '_more_tags', '_validate_X_predict', 'apply', 'class_weight', 'criterion', 'decision_path', 'feature_importances_', 'fit', 'get_depth', 'get_n_leaves', 'get_params', 'max_depth', 'max_features', 'max_leaf_nodes', 'min_impurity_decrease', 'min_impurity_split', 'min_samples_leaf', 'min_samples_split', 'min_weight_fraction_leaf', 'predict', 'predict_log_proba', 'predict_proba', 'presort', 'random_state', 'score', 'set_params', 'splitter']\n"
     ]
    }
   ],
   "source": [
    "print(dir(DecisionTreeClassifier())) #check out what feather is provided "
   ]
  },
  {
   "cell_type": "code",
   "execution_count": 59,
   "metadata": {
    "_uuid": "478f6526a689c97d1adea60f0d871f4ee7627e4f"
   },
   "outputs": [
    {
     "name": "stdout",
     "output_type": "stream",
     "text": [
      "0.9905300188399273\n"
     ]
    }
   ],
   "source": [
    "dt_clf = DecisionTreeClassifier()\n",
    "dt_clf.fit(X_training, y_training)\n",
    "pred_dt = dt_clf.predict(X_valid)\n",
    "acc_dt = accuracy_score(y_valid, pred_dt)\n",
    "print(acc_dt)"
   ]
  },
  {
   "cell_type": "code",
   "execution_count": 60,
   "metadata": {
    "_uuid": "138dc1119aa39f90e41225eed7203d11ccdd0027"
   },
   "outputs": [
    {
     "name": "stdout",
     "output_type": "stream",
     "text": [
      "[[38449   283]\n",
      " [  285 20962]]\n"
     ]
    }
   ],
   "source": [
    "# metrics confusion\n",
    "from sklearn import metrics\n",
    "print(metrics.confusion_matrix(y_valid, pred_dt))"
   ]
  },
  {
   "cell_type": "code",
   "execution_count": 61,
   "metadata": {
    "_uuid": "5f90a3216a01166965ca855d7933f2974fb1798c"
   },
   "outputs": [
    {
     "data": {
      "image/png": "[encoded data removed]",
      "text/plain": [
       "<IPython.core.display.Image object>"
      ]
     },
     "execution_count": 61,
     "metadata": {},
     "output_type": "execute_result"
    }
   ],
   "source": [
    "import numpy as np\n",
    "import pandas as pd\n",
    "import os\n",
    "import matplotlib.pyplot as plt\n",
    "import matplotlib\n",
    "import seaborn as sns\n",
    "matplotlib.style.use('fivethirtyeight')\n",
    "\n",
    "from sklearn import tree\n",
    "from IPython.display import Image as PImage\n",
    "from subprocess import check_call\n",
    "from PIL import Image, ImageDraw, ImageFont\n",
    "import re\n",
    "from sklearn.model_selection import train_test_split\n",
    "from subprocess import check_output\n",
    "\n",
    "with open(\"tree1.dot\", 'w') as f:\n",
    "     f = tree.export_graphviz(dt_clf,\n",
    "                              out_file=f,\n",
    "                              max_depth = 3,\n",
    "                              impurity = False,\n",
    "                              feature_names = X_test.columns.values,\n",
    "                              class_names = ['No', 'Yes'],\n",
    "                              rounded = True,\n",
    "                              filled= True )\n",
    "        \n",
    "#Convert .dot to .png to allow display in web notebook\n",
    "check_call(['dot','-Tpng','tree1.dot','-o','tree1.png'])\n",
    "# Annotating chart with PIL\n",
    "img = Image.open(\"tree1.png\")\n",
    "draw = ImageDraw.Draw(img)\n",
    "img.save('sample-out.png')\n",
    "PImage(\"sample-out.png\")"
   ]
  },
  {
   "cell_type": "markdown",
   "metadata": {
    "_uuid": "64e537719b03a4aebeea5b96e4d0a70a512d1df8"
   },
   "source": [
    "# GaussianNB Model"
   ]
  },
  {
   "cell_type": "code",
   "execution_count": 62,
   "metadata": {
    "_uuid": "14899e13493ad826fc7568378aaf32380c519bad"
   },
   "outputs": [
    {
     "name": "stdout",
     "output_type": "stream",
     "text": [
      "0.7734707147501626\n"
     ]
    }
   ],
   "source": [
    "gnb_clf = GaussianNB()\n",
    "gnb_clf.fit(X_training, y_training)\n",
    "pred_gnb = gnb_clf.predict(X_valid)\n",
    "acc_gnb = accuracy_score(y_valid, pred_gnb)\n",
    "print(acc_gnb)"
   ]
  },
  {
   "cell_type": "code",
   "execution_count": 63,
   "metadata": {
    "_uuid": "881af05631872c43a62ad4c6451315a8583c0d73"
   },
   "outputs": [
    {
     "name": "stdout",
     "output_type": "stream",
     "text": [
      "[[26525 12207]\n",
      " [ 1380 19867]]\n"
     ]
    }
   ],
   "source": [
    "# metrics confusion\n",
    "from sklearn import metrics\n",
    "print(metrics.confusion_matrix(y_valid, pred_gnb))"
   ]
  },
  {
   "cell_type": "markdown",
   "metadata": {
    "_uuid": "b3f1d37437d4e1c073422e36daeb0c04b017e713"
   },
   "source": [
    "# Linear SVC Model"
   ]
  },
  {
   "cell_type": "code",
   "execution_count": 64,
   "metadata": {
    "_uuid": "95e931cdcef944419e45da5d14d849a870b236b9"
   },
   "outputs": [
    {
     "name": "stdout",
     "output_type": "stream",
     "text": [
      "0.9812434352023208\n"
     ]
    },
    {
     "name": "stderr",
     "output_type": "stream",
     "text": [
      "/opt/conda/lib/python3.6/site-packages/sklearn/svm/base.py:929: ConvergenceWarning: Liblinear failed to converge, increase the number of iterations.\n",
      "  \"the number of iterations.\", ConvergenceWarning)\n"
     ]
    }
   ],
   "source": [
    "linsvc_clf = LinearSVC()\n",
    "linsvc_clf.fit(X_training, y_training)\n",
    "pred_linsvc = linsvc_clf.predict(X_valid)\n",
    "acc_linsvc = accuracy_score(y_valid, pred_linsvc)\n",
    "print(acc_linsvc)"
   ]
  },
  {
   "cell_type": "code",
   "execution_count": 65,
   "metadata": {
    "_uuid": "26cf8621baf33b2d14813006e188489ea584b550"
   },
   "outputs": [
    {
     "name": "stdout",
     "output_type": "stream",
     "text": [
      "[[37607  1125]\n",
      " [    0 21247]]\n"
     ]
    }
   ],
   "source": [
    "# metrics confusion\n",
    "from sklearn import metrics\n",
    "print(metrics.confusion_matrix(y_valid, pred_linsvc))"
   ]
  },
  {
   "cell_type": "markdown",
   "metadata": {
    "_uuid": "7b130e5d9586429578d8c6171f93aa4715e7462b"
   },
   "source": [
    "# Evaluating Model Performances"
   ]
  },
  {
   "cell_type": "code",
   "execution_count": 66,
   "metadata": {
    "_uuid": "b3e047b0b61a67bad0e1582e264da7dc033186e8"
   },
   "outputs": [
    {
     "data": {
      "text/html": [
       "<div>\n",
       "<style scoped>\n",
       "    .dataframe tbody tr th:only-of-type {\n",
       "        vertical-align: middle;\n",
       "    }\n",
       "\n",
       "    .dataframe tbody tr th {\n",
       "        vertical-align: top;\n",
       "    }\n",
       "\n",
       "    .dataframe thead th {\n",
       "        text-align: right;\n",
       "    }\n",
       "</style>\n",
       "<table border=\"1\" class=\"dataframe\">\n",
       "  <thead>\n",
       "    <tr style=\"text-align: right;\">\n",
       "      <th></th>\n",
       "      <th>Model</th>\n",
       "      <th>Accuracy</th>\n",
       "    </tr>\n",
       "  </thead>\n",
       "  <tbody>\n",
       "    <tr>\n",
       "      <td>1</td>\n",
       "      <td>Random Forest</td>\n",
       "      <td>0.994982</td>\n",
       "    </tr>\n",
       "    <tr>\n",
       "      <td>5</td>\n",
       "      <td>Decision Tree</td>\n",
       "      <td>0.990530</td>\n",
       "    </tr>\n",
       "    <tr>\n",
       "      <td>2</td>\n",
       "      <td>Logistic Regression</td>\n",
       "      <td>0.988296</td>\n",
       "    </tr>\n",
       "    <tr>\n",
       "      <td>0</td>\n",
       "      <td>Linear SVC</td>\n",
       "      <td>0.981243</td>\n",
       "    </tr>\n",
       "    <tr>\n",
       "      <td>3</td>\n",
       "      <td>K Nearest Neighbors</td>\n",
       "      <td>0.964471</td>\n",
       "    </tr>\n",
       "    <tr>\n",
       "      <td>4</td>\n",
       "      <td>Gaussian Naive Bayes</td>\n",
       "      <td>0.773471</td>\n",
       "    </tr>\n",
       "  </tbody>\n",
       "</table>\n",
       "</div>"
      ],
      "text/plain": [
       "                  Model  Accuracy\n",
       "1         Random Forest  0.994982\n",
       "5         Decision Tree  0.990530\n",
       "2   Logistic Regression  0.988296\n",
       "0            Linear SVC  0.981243\n",
       "3   K Nearest Neighbors  0.964471\n",
       "4  Gaussian Naive Bayes  0.773471"
      ]
     },
     "execution_count": 66,
     "metadata": {},
     "output_type": "execute_result"
    }
   ],
   "source": [
    "model_performance = pd.DataFrame({\n",
    "    \"Model\": [\"Linear SVC\", \"Random Forest\", \n",
    "              \"Logistic Regression\", \"K Nearest Neighbors\", \"Gaussian Naive Bayes\",  \n",
    "              \"Decision Tree\"],\n",
    "    \"Accuracy\": [acc_linsvc, acc_rf, \n",
    "              acc_logreg, acc_knn, acc_gnb, acc_dt]\n",
    "})\n",
    "\n",
    "model_performance.sort_values(by=\"Accuracy\", ascending=False)"
   ]
  },
  {
   "cell_type": "markdown",
   "metadata": {
    "_uuid": "71637ad4d8ebd195a86e0bd3e1ff9dc96aec547e"
   },
   "source": [
    "It is seen that the Random Forest is the best model."
   ]
  },
  {
   "cell_type": "markdown",
   "metadata": {
    "_uuid": "92b823df2c98d0f3fc046f9e18ec9d0a5c08a606"
   },
   "source": [
    "# Apply the Random Forest to test data to see how much it works"
   ]
  },
  {
   "cell_type": "code",
   "execution_count": 67,
   "metadata": {
    "_uuid": "268c3fa438199ae0c89ee9db6e06be29aa222181"
   },
   "outputs": [
    {
     "name": "stdout",
     "output_type": "stream",
     "text": [
      "0.9948248035959613\n"
     ]
    }
   ],
   "source": [
    "pred_rf = rf_clf.predict(X_test)\n",
    "acc_rf = accuracy_score(y_test, pred_rf)\n",
    "print(acc_rf)"
   ]
  },
  {
   "cell_type": "markdown",
   "metadata": {
    "_uuid": "5c36f9a768276a8ce6d86ba3a9cbd31dc0cfe537"
   },
   "source": [
    "# Save Your Model "
   ]
  },
  {
   "cell_type": "code",
   "execution_count": 68,
   "metadata": {
    "_uuid": "086e38f9da2dc4c08e69fd558daa9cd40cbb0f5d"
   },
   "outputs": [],
   "source": [
    "#import pickle\n",
    "# save the model to current working directory\n",
    "#filename = 'rf_amin_model.sav'\n",
    "#pickle.dump(rf_clf, open(filename, 'wb'))"
   ]
  },
  {
   "cell_type": "markdown",
   "metadata": {
    "_uuid": "225d70b20d5d0bd38dd60f24ea434cb6b6aaa912"
   },
   "source": [
    "You may load the model and apply to new data sometimes later."
   ]
  },
  {
   "cell_type": "code",
   "execution_count": 69,
   "metadata": {
    "_uuid": "762dfe533c475d20413503ace88941e4bcb7da83"
   },
   "outputs": [],
   "source": [
    "# load the model from disk\n",
    "#loaded_model = pickle.load(open(filename, 'rb'))\n",
    "#result = loaded_model.score(X_test, Y_test)\n",
    "#print(result)"
   ]
  },
  {
   "cell_type": "markdown",
   "metadata": {
    "_uuid": "8fb1cde2c07131ceb34b5a852efca543fa116981"
   },
   "source": [
    "The Model uses below columns and formats to predicc the state of each project. Before applying model following points shoulb be taken into account.\n",
    "\n",
    "The columns that are fed into the model are:\n",
    "'category', 'main_category', 'goal', 'pledged', 'backers', 'country', 'usd pledged', 'usd_pledged_real', 'usd_goal_real' and 'NumOfDays'\n",
    "\n",
    "Number of inputs = 10\n",
    "Number of Outputs = 1 (state) 1==succesful, 0 == Not Succesful\n",
    "\n",
    "The 'NumOfDays' column was generated by subtracting the deadline from launched date in csv file and it was saved and uploaded seperatly.\n",
    "The columns 'category', 'main_category', 'state' and 'country' were objects that were replaced with values. \n",
    "The above codes can be applied to any data before usign the model for prediction. The replaced values are seen by runing below lines.\n",
    "\n",
    "Don not forget to transfor your new data using the sme trasformer that we applied here before using the model for prediction."
   ]
  },
  {
   "cell_type": "code",
   "execution_count": 70,
   "metadata": {
    "_uuid": "6d1e34e9afc32d0ef962589e023a29323e9acfd7"
   },
   "outputs": [
    {
     "name": "stdout",
     "output_type": "stream",
     "text": [
      "{'category': {'3D Printing': 1, 'Academic': 2, 'Accessories': 3, 'Action': 4, 'Animals': 5, 'Animation': 6, 'Anthologies': 7, 'Apparel': 8, 'Apps': 9, 'Architecture': 10, 'Art': 11, 'Art Books': 12, 'Audio': 13, 'Bacon': 14, 'Blues': 15, 'Calendars': 16, 'Camera Equipment': 17, 'Candles': 18, 'Ceramics': 19, \"Children's Books\": 20, 'Childrenswear': 21, 'Chiptune': 22, 'Civic Design': 23, 'Classical Music': 24, 'Comedy': 25, 'Comic Books': 26, 'Comics': 27, 'Community Gardens': 28, 'Conceptual Art': 29, 'Cookbooks': 30, 'Country & Folk': 31, 'Couture': 32, 'Crafts': 33, 'Crochet': 34, 'DIY': 35, 'DIY Electronics': 36, 'Dance': 37, 'Design': 38, 'Digital Art': 39, 'Documentary': 40, 'Drama': 41, 'Drinks': 42, 'Electronic Music': 43, 'Embroidery': 44, 'Events': 45, 'Experimental': 46, 'Fabrication Tools': 47, 'Faith': 48, 'Family': 49, 'Fantasy': 50, \"Farmer's Markets\": 51, 'Farms': 52, 'Fashion': 53, 'Festivals': 54, 'Fiction': 55, 'Film & Video': 56, 'Fine Art': 57, 'Flight': 58, 'Food': 59, 'Food Trucks': 60, 'Footwear': 61, 'Gadgets': 62, 'Games': 63, 'Gaming Hardware': 64, 'Glass': 65, 'Graphic Design': 66, 'Graphic Novels': 67, 'Hardware': 68, 'Hip-Hop': 69, 'Horror': 70, 'Illustration': 71, 'Immersive': 72, 'Indie Rock': 73, 'Installations': 74, 'Interactive Design': 75, 'Jazz': 76, 'Jewelry': 77, 'Journalism': 78, 'Kids': 79, 'Knitting': 80, 'Latin': 81, 'Letterpress': 82, 'Literary Journals': 83, 'Literary Spaces': 84, 'Live Games': 85, 'Makerspaces': 86, 'Metal': 87, 'Mixed Media': 88, 'Mobile Games': 89, 'Movie Theaters': 90, 'Music': 91, 'Music Videos': 92, 'Musical': 93, 'Narrative Film': 94, 'Nature': 95, 'Nonfiction': 96, 'Painting': 97, 'People': 98, 'Performance Art': 99, 'Performances': 100, 'Periodicals': 101, 'Pet Fashion': 102, 'Photo': 103, 'Photobooks': 104, 'Photography': 105, 'Places': 106, 'Playing Cards': 107, 'Plays': 108, 'Poetry': 109, 'Pop': 110, 'Pottery': 111, 'Print': 112, 'Printing': 113, 'Product Design': 114, 'Public Art': 115, 'Publishing': 116, 'Punk': 117, 'Puzzles': 118, 'Quilts': 119, 'R&B': 120, 'Radio & Podcasts': 121, 'Ready-to-wear': 122, 'Residencies': 123, 'Restaurants': 124, 'Robots': 125, 'Rock': 126, 'Romance': 127, 'Science Fiction': 128, 'Sculpture': 129, 'Shorts': 130, 'Small Batch': 131, 'Software': 132, 'Sound': 133, 'Space Exploration': 134, 'Spaces': 135, 'Stationery': 136, 'Tabletop Games': 137, 'Taxidermy': 138, 'Technology': 139, 'Television': 140, 'Textiles': 141, 'Theater': 142, 'Thrillers': 143, 'Translations': 144, 'Typography': 145, 'Vegan': 146, 'Video': 147, 'Video Art': 148, 'Video Games': 149, 'Wearables': 150, 'Weaving': 151, 'Web': 152, 'Webcomics': 153, 'Webseries': 154, 'Woodworking': 155, 'Workshops': 156, 'World Music': 157, 'Young Adult': 158, 'Zines': 159}}\n",
      "{'main_category': {'Art': 1, 'Comics': 2, 'Crafts': 3, 'Dance': 4, 'Design': 5, 'Fashion': 6, 'Film & Video': 7, 'Food': 8, 'Games': 9, 'Journalism': 10, 'Music': 11, 'Photography': 12, 'Publishing': 13, 'Technology': 14, 'Theater': 15}}\n",
      "{'state': {'canceled': 1, 'failed': 2, 'live': 3, 'successful': 4, 'suspended': 5}}\n",
      "{'country': {'AT': 1, 'AU': 2, 'BE': 3, 'CA': 4, 'CH': 5, 'DE': 6, 'DK': 7, 'ES': 8, 'FR': 9, 'GB': 10, 'HK': 11, 'IE': 12, 'IT': 13, 'JP': 14, 'LU': 15, 'MX': 16, 'NL': 17, 'NO': 18, 'NZ': 19, 'SE': 20, 'SG': 21, 'US': 22}}\n"
     ]
    }
   ],
   "source": [
    "print(replace_map_comp1)\n",
    "print(replace_map_comp2)\n",
    "print(replace_map_comp3)\n",
    "print(replace_map_comp4)"
   ]
  },
  {
   "cell_type": "markdown",
   "metadata": {
    "_uuid": "cde85f2019d1d496a741f4b024131bf616a44611"
   },
   "source": [
    "Once the new data was prepared, the model can be applied for prediction."
   ]
  },
  {
   "cell_type": "markdown",
   "metadata": {
    "_uuid": "8f0930d38000083f319718faeb3dac1cd348e61d"
   },
   "source": [
    "Done. Good Luck everyone! :)"
   ]
  },
  {
   "cell_type": "markdown",
   "metadata": {
    "_uuid": "dee72d9809998e9496122597f42329e119274f7c"
   },
   "source": [
    "Some Resources:\n",
    "\n",
    "1) https://www.ritchieng.com/machine-learning-evaluate-classification-model/\n",
    "\n",
    "2) https://www.kaggle.com/pavansanagapati/a-simple-tutorial-on-exploratory-data-analysis\n",
    "\n",
    "3) https://www.kaggle.com/ialimustafa/titanic-beginner-s-guide-with-sklearn\n",
    "\n",
    "4) http://blog.exsilio.com/all/accuracy-precision-recall-f1-score-interpretation-of-performance-measures/"
   ]
  }
 ],
 "metadata": {
  "kernelspec": {
   "display_name": "Python 3",
   "language": "python",
   "name": "python3"
  },
  "language_info": {
   "codemirror_mode": {
    "name": "ipython",
    "version": 3
   },
   "file_extension": ".py",
   "mimetype": "text/x-python",
   "name": "python",
   "nbconvert_exporter": "python",
   "pygments_lexer": "ipython3",
   "version": "3.6.4"
  }
 },
 "nbformat": 4,
 "nbformat_minor": 1
}
