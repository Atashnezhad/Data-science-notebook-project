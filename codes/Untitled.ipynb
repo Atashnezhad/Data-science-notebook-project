{
 "cells": [
  {
   "cell_type": "markdown",
   "metadata": {},
   "source": [
    "### In this toturial I applied several ML algorithms to data set to determine if a project would be successful or not. \n",
    "The codes resources were provided at the end of this toturial. \n",
    "I think everyone can easily find the tools online and just arrange for them to achieve their desired goal. \n",
    "In this work, You will learn how to handle:\n",
    "\n",
    "1. Missed values\n",
    "2. Adding a new column to data\n",
    "3. Delete some useless columns\n",
    "4. Visualization\n",
    "5. Parameters Featuring and Transforming (Dealing with those parameters that are an object not digit)\n",
    "6. Splitting data (train, validate and test)\n",
    "7. Fitting ML models (Random Forest, Logistic Regression, Decision Tree, Gaussian, Linear SVC)\n",
    "8. Accuracy, Precision, Sensitivity or Recall, F1 score concepts\n",
    "9. Evaluating Model Performances\n",
    "10. Saving your model\n",
    "11. Uploading your model and how to apply it to other data\n",
    "You may use docker for this Notebook. \n",
    "(docker pull atashnezhad/datasciencenotebook)"
   ]
  },
  {
   "cell_type": "code",
   "execution_count": null,
   "metadata": {},
   "outputs": [],
   "source": []
  },
  {
   "cell_type": "code",
   "execution_count": null,
   "metadata": {},
   "outputs": [],
   "source": []
  },
  {
   "cell_type": "code",
   "execution_count": null,
   "metadata": {},
   "outputs": [],
   "source": []
  },
  {
   "cell_type": "code",
   "execution_count": null,
   "metadata": {},
   "outputs": [],
   "source": []
  },
  {
   "cell_type": "code",
   "execution_count": null,
   "metadata": {},
   "outputs": [],
   "source": []
  }
 ],
 "metadata": {
  "kernelspec": {
   "display_name": "Python 3",
   "language": "python",
   "name": "python3"
  },
  "language_info": {
   "codemirror_mode": {
    "name": "ipython",
    "version": 3
   },
   "file_extension": ".py",
   "mimetype": "text/x-python",
   "name": "python",
   "nbconvert_exporter": "python",
   "pygments_lexer": "ipython3",
   "version": "3.6.4"
  }
 },
 "nbformat": 4,
 "nbformat_minor": 4
}
